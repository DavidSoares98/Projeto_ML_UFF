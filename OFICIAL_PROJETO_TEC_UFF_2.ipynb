{
  "nbformat": 4,
  "nbformat_minor": 0,
  "metadata": {
    "colab": {
      "provenance": [],
      "collapsed_sections": [
        "mYq7j4KUx4LD",
        "pxlqxvyL0j_i",
        "7q5PYvgL92qZ",
        "MdVFaRqu_h7b",
        "rNwX42OKBB3b",
        "8ML4MPQqCwzQ"
      ],
      "include_colab_link": true
    },
    "kernelspec": {
      "name": "python3",
      "display_name": "Python 3"
    },
    "language_info": {
      "name": "python"
    }
  },
  "cells": [
    {
      "cell_type": "markdown",
      "metadata": {
        "id": "view-in-github",
        "colab_type": "text"
      },
      "source": [
        "<a href=\"https://colab.research.google.com/github/DavidSoares98/Projeto_UFF/blob/main/OFICIAL_PROJETO_TEC_UFF_2.ipynb\" target=\"_parent\"><img src=\"https://colab.research.google.com/assets/colab-badge.svg\" alt=\"Open In Colab\"/></a>"
      ]
    },
    {
      "cell_type": "markdown",
      "source": [
        "Universidade Federal Fluminense - Campus Petrópolis\n",
        "\n",
        "Orientador: Fábio Ribeiro Cerqueira\n",
        "\n",
        "Alunos: David B. Soares e Lucas C. de Andrade"
      ],
      "metadata": {
        "id": "n1ItzL7Megct"
      }
    },
    {
      "cell_type": "markdown",
      "source": [
        "Base de dados retirada do [Kaggle](https://www.kaggle.com/datasets/fedesoriano/heart-failure-prediction)"
      ],
      "metadata": {
        "id": "D0ahIFAwfg1V"
      }
    },
    {
      "cell_type": "markdown",
      "source": [
        "# **Motivações e objetivo**\n",
        "Segundo a Organização Pan Americana de Saúde ([OPAS](https://www.paho.org/pt/topicos/doencas-cardiovasculares#:~:text=As%20doen%C3%A7as%20cardiovasculares%20s%C3%A3o%20a,as%20mortes%20em%20n%C3%ADvel%20global.)), as doenças cardiovasculares são a causa número 1 de mortes em todo o mundo, é estimado que [17,9 milhões de pessoas morreram por doenças cardiovasculares em 2016](https://https://www.paho.org/pt/topicos/doencas-cardiovasculares#:~:text=As%20doen%C3%A7as%20cardiovasculares%20s%C3%A3o%20a,as%20mortes%20em%20n%C3%ADvel%20global.), sendo 31% de todas as mortes em nível global. Pessoas que possuem doenças cardiovasculares ou um alto risco cardiovascular, necessitam de detecção e tratamento precoces, para que se possa diminuir os riscos. O principal objetivo é desenvolver um algoritmo, que baseado nas colunas atributos, possa prever a doença cardiovascular."
      ],
      "metadata": {
        "id": "cRErLDxoiemy"
      }
    },
    {
      "cell_type": "code",
      "source": [
        "import pandas as pd\n",
        "import numpy as np\n",
        "import seaborn as sns\n",
        "import matplotlib.pyplot as plt\n",
        "import plotly.express as px"
      ],
      "metadata": {
        "id": "Tc3TYY7ByqJo"
      },
      "execution_count": null,
      "outputs": []
    },
    {
      "cell_type": "code",
      "source": [
        "base_heart = pd.read_csv('/content/heart.csv')\n",
        "base_heart.head()"
      ],
      "metadata": {
        "id": "ZQM48jZz27-E"
      },
      "execution_count": null,
      "outputs": []
    },
    {
      "cell_type": "markdown",
      "source": [
        "# **Colunas**\n",
        "\n",
        "\n",
        "---\n",
        "\n",
        "\n",
        "\n",
        "**Age**: idade do paciente [anos]\n",
        "\n",
        "---\n",
        "\n",
        "\n",
        "**Sex**: sexo do paciente [M: Masculino, F: Feminino]\n",
        "\n",
        "---\n",
        "\n",
        "\n",
        "**ChestPainType**: ChestPainType: tipo de dor no peito [TA: Angina Típica, ATA: Angina Atípica, NAP: Dor Não Anginosa, ASY: Assintomática]\n",
        "\n",
        "*Angina está relacionado a infarto*\n",
        "\n",
        "*Não anginosa, não está*\n",
        "\n",
        "---\n",
        "\n",
        "\n",
        "**RestingBP**: pressão arterial de repouso [mm Hg]\n",
        "\n",
        "\n",
        "---\n",
        "\n",
        "\n",
        "**Cholesterol**: colesterol sérico [mm/dl]\n",
        "\n",
        "\n",
        "---\n",
        "\n",
        "\n",
        "**FastingBS**: glicemia em jejum [1: se FastingBS > 120 mg/dl, 0: caso contrário]\n",
        "\n",
        "\n",
        "---\n",
        "\n",
        "\n",
        "**RestingECG**:  resultados do eletrocardiograma de repouso [Normal: normal, ST: com anormalidade da onda ST-T (inversões da onda T e/ou elevação ou depressão do ST > 0,05 mV), HVE: Hipertrofia Ventricular Esquerda; mostrando provável ou definitiva hipertrofia ventricular]\n",
        "\n",
        "\n",
        "---\n",
        "\n",
        "\n",
        "**MaxHR**: frequência cardíaca máxima alcançada [Valor numérico entre 60 e 202]\n",
        "\n",
        "\n",
        "---\n",
        "\n",
        "\n",
        "**ExerciseAngina**: angina induzida por exercício [Y: Sim, N: Não]\n",
        "\n",
        "\n",
        "---\n",
        "\n",
        "\n",
        "**Oldpeak**: oldpeak = ST [Valor numérico medido em depressão]\n",
        "\n",
        "\n",
        "---\n",
        "\n",
        "\n",
        "**ST_Slope**: a inclinação do segmento ST do exercício de pico [Up: Para cima, Flat: Plano, Down: Para baixo]\n",
        "\n",
        "\n",
        "---\n",
        "\n",
        "\n",
        "**HeartDisease**: classe de saída [1: doença cardíaca, 0: normal]\n",
        "\n",
        "\n",
        "---\n",
        "\n",
        "\n",
        "*Angina = dor no peito*"
      ],
      "metadata": {
        "id": "ls-dW7Ek5HmP"
      }
    },
    {
      "cell_type": "markdown",
      "source": [
        "São **14 colunas**, sendo a coluna ***HeartDisease*** a  coluna **classe**"
      ],
      "metadata": {
        "id": "P_7jY1WI3eWU"
      }
    },
    {
      "cell_type": "markdown",
      "source": [
        "#Análise Inical"
      ],
      "metadata": {
        "id": "bcrGfVOTElxu"
      }
    },
    {
      "cell_type": "code",
      "source": [
        "base_heart.describe(include = 'all')"
      ],
      "metadata": {
        "id": "yllvSQ6M3AzF"
      },
      "execution_count": null,
      "outputs": []
    },
    {
      "cell_type": "markdown",
      "source": [
        "Tratar Cholesterol e RestingBP, adotar média no lugar dos zeros (0)."
      ],
      "metadata": {
        "id": "YOn4bAfJZ5q2"
      }
    },
    {
      "cell_type": "code",
      "source": [
        "base_heart.shape"
      ],
      "metadata": {
        "id": "vKxfymEHVqyd"
      },
      "execution_count": null,
      "outputs": []
    },
    {
      "cell_type": "code",
      "source": [
        "base_heart.info()"
      ],
      "metadata": {
        "id": "j0iVp6jkVq8f"
      },
      "execution_count": null,
      "outputs": []
    },
    {
      "cell_type": "code",
      "source": [
        "# Ver se existem valores nulos de forma gráfica\n",
        "plt.figure(figsize=(10,5))\n",
        "plt.title(\"Valores Nulos\", fontsize=20)\n",
        "sns.heatmap(base_heart.isnull(),cbar=False)\n",
        "plt.xticks(rotation=45,ha='right');"
      ],
      "metadata": {
        "id": "EirL2KFGVYID"
      },
      "execution_count": null,
      "outputs": []
    },
    {
      "cell_type": "markdown",
      "source": [
        "**RestingBP e\tCholesterol** deverão ter dados tratados, uma vez que apresentam valores zerados, o que não faz sentido. A média será adotada."
      ],
      "metadata": {
        "id": "QZWlf3UT8uLL"
      }
    },
    {
      "cell_type": "code",
      "source": [
        "np.unique(base_heart['Sex'], return_counts='sex') "
      ],
      "metadata": {
        "id": "1AQCVwNw3yid"
      },
      "execution_count": null,
      "outputs": []
    },
    {
      "cell_type": "code",
      "source": [
        "# Ver a procentagem de F e M\n",
        "base_heart.Sex.value_counts(normalize=True)*100"
      ],
      "metadata": {
        "id": "B9A1ria1WMyC"
      },
      "execution_count": null,
      "outputs": []
    },
    {
      "cell_type": "code",
      "source": [
        "np.unique(base_heart['ChestPainType'], return_counts='ChestPainType')"
      ],
      "metadata": {
        "id": "dp8oPx8d4eZT"
      },
      "execution_count": null,
      "outputs": []
    },
    {
      "cell_type": "code",
      "source": [
        "sns.histplot(x='ChestPainType',data=base_heart);"
      ],
      "metadata": {
        "id": "WTcd67WKYtBG"
      },
      "execution_count": null,
      "outputs": []
    },
    {
      "cell_type": "code",
      "source": [
        "np.unique(base_heart['RestingECG'], return_counts='RestingECG')"
      ],
      "metadata": {
        "id": "o2g3VpHv5EqU"
      },
      "execution_count": null,
      "outputs": []
    },
    {
      "cell_type": "code",
      "source": [
        "sns.histplot(x='RestingECG',data=base_heart);"
      ],
      "metadata": {
        "id": "IYvUFb1QYweo"
      },
      "execution_count": null,
      "outputs": []
    },
    {
      "cell_type": "code",
      "source": [
        "np.unique(base_heart['ExerciseAngina'], return_counts='ExerciseAngina')"
      ],
      "metadata": {
        "id": "SIR0WR-H5NxL"
      },
      "execution_count": null,
      "outputs": []
    },
    {
      "cell_type": "code",
      "source": [
        "sns.histplot(x='ExerciseAngina',data=base_heart);"
      ],
      "metadata": {
        "id": "lWln8VpiY571"
      },
      "execution_count": null,
      "outputs": []
    },
    {
      "cell_type": "code",
      "source": [
        "np.unique(base_heart['ST_Slope'], return_counts='ST_Slope')"
      ],
      "metadata": {
        "id": "FzJ4TBwT5UM0"
      },
      "execution_count": null,
      "outputs": []
    },
    {
      "cell_type": "code",
      "source": [
        "sns.histplot(x='ST_Slope',data=base_heart);"
      ],
      "metadata": {
        "id": "GQosfDW0Y83u"
      },
      "execution_count": null,
      "outputs": []
    },
    {
      "cell_type": "code",
      "source": [
        "# Ver a procentagem de 0 e 1\n",
        "base_heart.HeartDisease.value_counts(normalize=True)*100"
      ],
      "metadata": {
        "id": "DyRTuf43m-of"
      },
      "execution_count": null,
      "outputs": []
    },
    {
      "cell_type": "code",
      "source": [
        "#A coluna colesterol apresentam uma quantidade grande de valores 0. Aparentemente apresenta uma distribuição normal\n",
        "sns.histplot(x='Cholesterol',data=base_heart,bins=20,kde=True);"
      ],
      "metadata": {
        "id": "BKqj2VV-PESb"
      },
      "execution_count": null,
      "outputs": []
    },
    {
      "cell_type": "code",
      "source": [
        "# Aparentemente colesterol não tem relação com problemas cardiacos. David depois faz isso na biblioteca plotly.express que fica mais legal\n",
        "dados=base_heart[base_heart['Cholesterol']>0]\n",
        "sns.boxplot(data=dados,x=\"Sex\",y='Cholesterol', hue=\"HeartDisease\");"
      ],
      "metadata": {
        "id": "ZyNrbZ8UWl_e"
      },
      "execution_count": null,
      "outputs": []
    },
    {
      "cell_type": "markdown",
      "source": [
        "Foi verificado que todos os dados dessas colunas foram preenchidos com valores esperados."
      ],
      "metadata": {
        "id": "aoU16IZG5eKr"
      }
    },
    {
      "cell_type": "code",
      "source": [
        "fig = px.scatter(base_heart, x=base_heart.Age, y=base_heart.Cholesterol, color=base_heart.HeartDisease, size=base_heart.RestingBP)\n",
        "fig.show()"
      ],
      "metadata": {
        "id": "xMPGmEgSQE_b"
      },
      "execution_count": null,
      "outputs": []
    },
    {
      "cell_type": "code",
      "source": [
        "media = np.mean(base_heart[base_heart[\"Cholesterol\"]>0].Cholesterol)\n",
        "print(media)"
      ],
      "metadata": {
        "id": "blI3XbTATBul"
      },
      "execution_count": null,
      "outputs": []
    },
    {
      "cell_type": "code",
      "source": [
        "base_heart.loc[base_heart.Cholesterol<=0, \"Cholesterol\"]=media"
      ],
      "metadata": {
        "id": "avnZtKcaZN_w"
      },
      "execution_count": null,
      "outputs": []
    },
    {
      "cell_type": "code",
      "source": [
        "fig = px.scatter(base_heart, x=base_heart.Age, y=base_heart.Cholesterol, color=base_heart.HeartDisease, size=base_heart.RestingBP)\n",
        "fig.show()"
      ],
      "metadata": {
        "id": "6FcaBKafegH6"
      },
      "execution_count": null,
      "outputs": []
    },
    {
      "cell_type": "code",
      "source": [
        "media = np.mean(base_heart[base_heart[\"RestingBP\"]>0].RestingBP)\n",
        "print(media)\n",
        "base_heart.loc[base_heart.RestingBP<=0, \"RestingBP\"]=media"
      ],
      "metadata": {
        "id": "_LB9lz2_bSGN"
      },
      "execution_count": null,
      "outputs": []
    },
    {
      "cell_type": "code",
      "source": [
        "plt.figure(figsize=(10,7))\n",
        "sns.heatmap(base_heart.corr(), annot=True, cbar=False);"
      ],
      "metadata": {
        "id": "WNrq2wHDegr3"
      },
      "execution_count": null,
      "outputs": []
    },
    {
      "cell_type": "code",
      "source": [
        "fig = px.scatter(base_heart, y=base_heart.RestingBP, x=base_heart.Age, color=base_heart.HeartDisease)\n",
        "fig.show()"
      ],
      "metadata": {
        "id": "mNsoihxyhjZw"
      },
      "execution_count": null,
      "outputs": []
    },
    {
      "cell_type": "code",
      "source": [
        "sns.countplot(x='ChestPainType', hue = \"HeartDisease\", data=base_heart);\n",
        "#Dor atípica parece ter uma forte relevância"
      ],
      "metadata": {
        "id": "QZXwchXnYBqP"
      },
      "execution_count": null,
      "outputs": []
    },
    {
      "cell_type": "code",
      "source": [
        "sns.countplot(x='RestingECG', hue = \"HeartDisease\", data=base_heart);\n",
        "#Não parece ajudar muito para prever a doença"
      ],
      "metadata": {
        "id": "0X-KOeSZeRUt"
      },
      "execution_count": null,
      "outputs": []
    },
    {
      "cell_type": "code",
      "source": [
        "sns.countplot(x='ST_Slope', hue = \"HeartDisease\", data=base_heart);\n",
        "#Aparenta ter uma forte relevância"
      ],
      "metadata": {
        "id": "3crEwhxoec01"
      },
      "execution_count": null,
      "outputs": []
    },
    {
      "cell_type": "code",
      "source": [
        "sns.histplot(x='Age',data=base_heart,bins=20,kde=True, hue = \"HeartDisease\");\n",
        "#Doença manifestando em maior quantidade na população mais velha."
      ],
      "metadata": {
        "id": "wjFx4_WffQgK"
      },
      "execution_count": null,
      "outputs": []
    },
    {
      "cell_type": "code",
      "source": [
        "px.treemap(base_heart, path=['ChestPainType', 'HeartDisease'])"
      ],
      "metadata": {
        "id": "PO_3AO_ixadl"
      },
      "execution_count": null,
      "outputs": []
    },
    {
      "cell_type": "code",
      "source": [
        "px.treemap(base_heart, path=['ST_Slope', 'HeartDisease'])"
      ],
      "metadata": {
        "id": "PwFJZYEcxes4"
      },
      "execution_count": null,
      "outputs": []
    },
    {
      "cell_type": "code",
      "source": [
        "px.scatter_matrix(base_heart, dimensions=['Age','MaxHR'], color='HeartDisease')"
      ],
      "metadata": {
        "id": "yW6Vp_pfjb4h"
      },
      "execution_count": null,
      "outputs": []
    },
    {
      "cell_type": "markdown",
      "source": [
        "Tratamento para poder aplicar Naive Bayes"
      ],
      "metadata": {
        "id": "57NwdVhZYaow"
      }
    },
    {
      "cell_type": "code",
      "source": [
        "base_heart.columns"
      ],
      "metadata": {
        "id": "fdlT0RxzYnw3"
      },
      "execution_count": null,
      "outputs": []
    },
    {
      "cell_type": "code",
      "source": [
        "X = base_heart.iloc[:, 0:11].values\n",
        "X"
      ],
      "metadata": {
        "id": "tab1Wl9LY4eY"
      },
      "execution_count": null,
      "outputs": []
    },
    {
      "cell_type": "code",
      "source": [
        "y = base_heart.iloc[:, 11].values\n",
        "y"
      ],
      "metadata": {
        "id": "gayu50ckZML5"
      },
      "execution_count": null,
      "outputs": []
    },
    {
      "cell_type": "code",
      "source": [
        "X_onehot = X.copy()\n",
        "X_onehot"
      ],
      "metadata": {
        "id": "MRivIooNZhSP"
      },
      "execution_count": null,
      "outputs": []
    },
    {
      "cell_type": "code",
      "source": [
        "from sklearn.preprocessing import OneHotEncoder\n",
        "from sklearn.compose import ColumnTransformer"
      ],
      "metadata": {
        "id": "vUFtUL2hZ2Ef"
      },
      "execution_count": null,
      "outputs": []
    },
    {
      "cell_type": "code",
      "source": [
        "onehot_census = ColumnTransformer(transformers=[('OneHot', OneHotEncoder(), \n",
        "[1, 2, 6, 8, 10])], remainder='passthrough', sparse_threshold=0)\n",
        "\n",
        "X_onehot = onehot_census.fit_transform(X_onehot)\n",
        "X_onehot.shape"
      ],
      "metadata": {
        "id": "wCXitialZ_13"
      },
      "execution_count": null,
      "outputs": []
    },
    {
      "cell_type": "code",
      "source": [
        "X_onehot[0]"
      ],
      "metadata": {
        "id": "dxr_PAfgclfi"
      },
      "execution_count": null,
      "outputs": []
    },
    {
      "cell_type": "code",
      "source": [
        "len(X_onehot[0])"
      ],
      "metadata": {
        "id": "W-A93N2-coyK"
      },
      "execution_count": null,
      "outputs": []
    },
    {
      "cell_type": "code",
      "source": [
        "from sklearn.preprocessing import KBinsDiscretizer"
      ],
      "metadata": {
        "id": "efEIKrvocuEy"
      },
      "execution_count": null,
      "outputs": []
    },
    {
      "cell_type": "code",
      "source": [
        "dicretizer = ColumnTransformer(transformers=[('KBinsDiscretizer', KBinsDiscretizer(n_bins=5, encode='ordinal', strategy='uniform'), \n",
        "                                              [19, 18, 17, 16, 15, 14])], remainder='passthrough', sparse_threshold=0)"
      ],
      "metadata": {
        "id": "cA6Gxe8rcxVY"
      },
      "execution_count": null,
      "outputs": []
    },
    {
      "cell_type": "code",
      "source": [
        "X_onehot = dicretizer.fit_transform(X_onehot)"
      ],
      "metadata": {
        "id": "ITHl0fBw175z"
      },
      "execution_count": null,
      "outputs": []
    },
    {
      "cell_type": "markdown",
      "source": [
        "#Separar Teste e Treino"
      ],
      "metadata": {
        "id": "xbdT_OsZ1_Os"
      }
    },
    {
      "cell_type": "code",
      "source": [
        "from sklearn.model_selection import train_test_split\n",
        "\n",
        "X_treinamento, X_teste, y_treinamento, y_teste = train_test_split(X_onehot, y, test_size=0.2, random_state=0)\n",
        "\n",
        "X_treinamento.shape, y_treinamento.shape, X_teste.shape, y_teste.shape"
      ],
      "metadata": {
        "id": "lp2F3ZwodWGZ"
      },
      "execution_count": null,
      "outputs": []
    },
    {
      "cell_type": "code",
      "source": [
        "X_treinamento"
      ],
      "metadata": {
        "id": "Hk_7CGfg1z7b"
      },
      "execution_count": null,
      "outputs": []
    },
    {
      "cell_type": "markdown",
      "source": [
        "#Normalizar"
      ],
      "metadata": {
        "id": "MD5Lzn-j1wmC"
      }
    },
    {
      "cell_type": "code",
      "source": [
        "from sklearn.preprocessing import StandardScaler"
      ],
      "metadata": {
        "id": "d0pGToNj1zxS"
      },
      "execution_count": null,
      "outputs": []
    },
    {
      "cell_type": "code",
      "source": [
        "X_onehot.shape"
      ],
      "metadata": {
        "id": "xxpQiQDv2c2i"
      },
      "execution_count": null,
      "outputs": []
    },
    {
      "cell_type": "code",
      "source": [
        "X_treinamento_norm= StandardScaler().fit_transform(X_treinamento)"
      ],
      "metadata": {
        "id": "Q5uVxZcu2kM7"
      },
      "execution_count": null,
      "outputs": []
    },
    {
      "cell_type": "code",
      "source": [
        "X_teste_norm = StandardScaler().fit_transform(X_teste)"
      ],
      "metadata": {
        "id": "bN-OHUGa5wfR"
      },
      "execution_count": null,
      "outputs": []
    },
    {
      "cell_type": "markdown",
      "source": [
        "#Modelos"
      ],
      "metadata": {
        "id": "kh248Brs0WDj"
      }
    },
    {
      "cell_type": "markdown",
      "source": [
        "##Naive Bayes"
      ],
      "metadata": {
        "id": "pzZ7mS7j0Qxz"
      }
    },
    {
      "cell_type": "code",
      "source": [
        "from sklearn.naive_bayes import CategoricalNB\n",
        "from sklearn.metrics import confusion_matrix\n",
        "from sklearn.metrics import classification_report"
      ],
      "metadata": {
        "id": "O8_E_hPtdZSZ"
      },
      "execution_count": null,
      "outputs": []
    },
    {
      "cell_type": "code",
      "source": [
        "metodo_CNB = CategoricalNB()\n",
        "metodo_CNB.fit(X_treinamento, y_treinamento )"
      ],
      "metadata": {
        "id": "7ibBTik56LHo"
      },
      "execution_count": null,
      "outputs": []
    },
    {
      "cell_type": "code",
      "source": [
        "predicoes = metodo_CNB.predict(X_teste)"
      ],
      "metadata": {
        "id": "Pc4EpQheieSa"
      },
      "execution_count": null,
      "outputs": []
    },
    {
      "cell_type": "code",
      "source": [
        "matriz = confusion_matrix(y_teste, predicoes)\n",
        "matriz"
      ],
      "metadata": {
        "id": "4RhAuhyeeP7p"
      },
      "execution_count": null,
      "outputs": []
    },
    {
      "cell_type": "code",
      "source": [
        "nomes = np.unique(predicoes)\n",
        "plt.figure(figsize=(12,8))\n",
        "sns.heatmap(matriz, square=True, annot=True, fmt='d', cbar=False,\n",
        "xticklabels=nomes, yticklabels=nomes)\n",
        "plt.xlabel('Predito');\n",
        "plt.ylabel('Verdadeiro');"
      ],
      "metadata": {
        "id": "b_b6peXreQcP"
      },
      "execution_count": null,
      "outputs": []
    },
    {
      "cell_type": "code",
      "source": [
        "print(classification_report(y_teste, predicoes))"
      ],
      "metadata": {
        "id": "azrBxAQneW6g"
      },
      "execution_count": null,
      "outputs": []
    },
    {
      "cell_type": "markdown",
      "source": [
        "##XGBoost"
      ],
      "metadata": {
        "id": "mYq7j4KUx4LD"
      }
    },
    {
      "cell_type": "code",
      "source": [
        "from xgboost import XGBClassifier"
      ],
      "metadata": {
        "id": "uInAxMLoebko"
      },
      "execution_count": null,
      "outputs": []
    },
    {
      "cell_type": "code",
      "source": [
        "modelo_xgboost = XGBClassifier(random_state=10)\n",
        "modelo_xgboost.fit(X_treinamento_norm, y_treinamento)"
      ],
      "metadata": {
        "id": "ZCVgVAZJx2ZN"
      },
      "execution_count": null,
      "outputs": []
    },
    {
      "cell_type": "code",
      "source": [
        "predicoes_xgboost = modelo_xgboost.predict(X_teste_norm)"
      ],
      "metadata": {
        "id": "tGgmdRWXyoHM"
      },
      "execution_count": null,
      "outputs": []
    },
    {
      "cell_type": "code",
      "source": [
        "matriz = confusion_matrix(y_teste, predicoes_xgboost)\n",
        "matriz"
      ],
      "metadata": {
        "id": "f5B1NK2Q4NGL"
      },
      "execution_count": null,
      "outputs": []
    },
    {
      "cell_type": "code",
      "source": [
        "nomes = np.unique(predicoes_xgboost)\n",
        "plt.figure(figsize=(12,8))\n",
        "sns.heatmap(matriz, square=True, annot=True, fmt='d', cbar=False,\n",
        "xticklabels=nomes, yticklabels=nomes)\n",
        "plt.xlabel('Predito');\n",
        "plt.ylabel('Verdadeiro');"
      ],
      "metadata": {
        "id": "KjuTcmziyRVs"
      },
      "execution_count": null,
      "outputs": []
    },
    {
      "cell_type": "code",
      "source": [
        "print(classification_report(y_teste, predicoes_xgboost ))"
      ],
      "metadata": {
        "id": "mgEQxm1zy1ka"
      },
      "execution_count": null,
      "outputs": []
    },
    {
      "cell_type": "markdown",
      "source": [
        "##Random Forest"
      ],
      "metadata": {
        "id": "pxlqxvyL0j_i"
      }
    },
    {
      "cell_type": "code",
      "source": [
        "from sklearn.ensemble import RandomForestClassifier"
      ],
      "metadata": {
        "id": "WwvPeEG90qfa"
      },
      "execution_count": null,
      "outputs": []
    },
    {
      "cell_type": "code",
      "source": [
        "modelo_random_forest = RandomForestClassifier(random_state=10)\n",
        "modelo_random_forest.fit(X_treinamento_norm, y_treinamento)"
      ],
      "metadata": {
        "id": "XnQ9bxqJ7a00"
      },
      "execution_count": null,
      "outputs": []
    },
    {
      "cell_type": "code",
      "source": [
        "predicoes_random_forest = modelo_random_forest.predict(X_teste_norm)"
      ],
      "metadata": {
        "id": "whZBMmL37a4Q"
      },
      "execution_count": null,
      "outputs": []
    },
    {
      "cell_type": "code",
      "source": [
        "matriz_random_forest = confusion_matrix(y_teste, predicoes_random_forest)\n",
        "matriz_random_forest "
      ],
      "metadata": {
        "id": "awkh7PDQ9XMk"
      },
      "execution_count": null,
      "outputs": []
    },
    {
      "cell_type": "code",
      "source": [
        "nomes = np.unique(predicoes_random_forest)\n",
        "plt.figure(figsize=(12,8))\n",
        "sns.heatmap(matriz_random_forest , square=True, annot=True, fmt='d', cbar=False,\n",
        "xticklabels=nomes, yticklabels=nomes)\n",
        "plt.xlabel('Predito');\n",
        "plt.ylabel('Verdadeiro');"
      ],
      "metadata": {
        "id": "eUqdYVw59LeK"
      },
      "execution_count": null,
      "outputs": []
    },
    {
      "cell_type": "code",
      "source": [
        "print(classification_report(y_teste,predicoes_random_forest ))"
      ],
      "metadata": {
        "id": "TDX9d3rh9fK6"
      },
      "execution_count": null,
      "outputs": []
    },
    {
      "cell_type": "markdown",
      "source": [
        "##Árvore de Decissão"
      ],
      "metadata": {
        "id": "7q5PYvgL92qZ"
      }
    },
    {
      "cell_type": "code",
      "source": [
        "from sklearn.tree import DecisionTreeClassifier"
      ],
      "metadata": {
        "id": "RezNt0H_97jS"
      },
      "execution_count": null,
      "outputs": []
    },
    {
      "cell_type": "code",
      "source": [
        "arvore_std = DecisionTreeClassifier(criterion='entropy', random_state=0)\n",
        "arvore_std.fit(X_treinamento_norm, y_treinamento)"
      ],
      "metadata": {
        "id": "LGc7VE-d97oW"
      },
      "execution_count": null,
      "outputs": []
    },
    {
      "cell_type": "code",
      "source": [
        "base_heart.columns[0:11]"
      ],
      "metadata": {
        "id": "Yhwda70--bpS"
      },
      "execution_count": null,
      "outputs": []
    },
    {
      "cell_type": "code",
      "source": [
        "arvore_std.feature_importances_"
      ],
      "metadata": {
        "id": "qMinRfHm97rC"
      },
      "execution_count": null,
      "outputs": []
    },
    {
      "cell_type": "code",
      "source": [
        "predicoes_arv = arvore_std.predict(X_teste_norm)"
      ],
      "metadata": {
        "id": "zJEovCZA97tx"
      },
      "execution_count": null,
      "outputs": []
    },
    {
      "cell_type": "code",
      "source": [
        "matriz_arv = confusion_matrix(y_teste, predicoes_arv)\n",
        "matriz_arv "
      ],
      "metadata": {
        "id": "NuNmbpOj97wO"
      },
      "execution_count": null,
      "outputs": []
    },
    {
      "cell_type": "code",
      "source": [
        "nomes = np.unique(predicoes_arv)\n",
        "plt.figure(figsize=(12,8))\n",
        "sns.heatmap(matriz_arv , square=True, annot=True, fmt='d', cbar=False,\n",
        "xticklabels=nomes, yticklabels=nomes)\n",
        "plt.xlabel('Predito');\n",
        "plt.ylabel('Verdadeiro');"
      ],
      "metadata": {
        "id": "qehA_3K-97zY"
      },
      "execution_count": null,
      "outputs": []
    },
    {
      "cell_type": "code",
      "source": [
        "print(classification_report(y_teste,predicoes_arv ))"
      ],
      "metadata": {
        "id": "_BLvW0wJ_P9l"
      },
      "execution_count": null,
      "outputs": []
    },
    {
      "cell_type": "markdown",
      "source": [
        "##KNN"
      ],
      "metadata": {
        "id": "MdVFaRqu_h7b"
      }
    },
    {
      "cell_type": "code",
      "source": [
        "from sklearn.neighbors import KNeighborsClassifier"
      ],
      "metadata": {
        "id": "ntI3pV6l_yu0"
      },
      "execution_count": null,
      "outputs": []
    },
    {
      "cell_type": "code",
      "source": [
        "knn = KNeighborsClassifier()\n",
        "knn.fit(X_treinamento_norm, y_treinamento)"
      ],
      "metadata": {
        "id": "fwY1NWxD_6bJ"
      },
      "execution_count": null,
      "outputs": []
    },
    {
      "cell_type": "code",
      "source": [
        "predicoes_knn = knn.predict(X_teste_norm)"
      ],
      "metadata": {
        "id": "6T3kpWlb_6eZ"
      },
      "execution_count": null,
      "outputs": []
    },
    {
      "cell_type": "code",
      "source": [
        "matriz_knn = confusion_matrix(y_teste, predicoes_knn)\n",
        "matriz_knn"
      ],
      "metadata": {
        "id": "hALbo8vP_6h6"
      },
      "execution_count": null,
      "outputs": []
    },
    {
      "cell_type": "code",
      "source": [
        "nomes = np.unique(predicoes_knn)\n",
        "plt.figure(figsize=(12,8))\n",
        "sns.heatmap(matriz_knn , square=True, annot=True, fmt='d', cbar=False,\n",
        "xticklabels=nomes, yticklabels=nomes)\n",
        "plt.xlabel('Predito');\n",
        "plt.ylabel('Verdadeiro');"
      ],
      "metadata": {
        "id": "yXaV_oPf_6zv"
      },
      "execution_count": null,
      "outputs": []
    },
    {
      "cell_type": "code",
      "source": [
        "print(classification_report(y_teste,predicoes_knn))"
      ],
      "metadata": {
        "id": "tv_dYNqX_63v"
      },
      "execution_count": null,
      "outputs": []
    },
    {
      "cell_type": "markdown",
      "source": [
        "##MLP"
      ],
      "metadata": {
        "id": "rNwX42OKBB3b"
      }
    },
    {
      "cell_type": "code",
      "source": [
        "from sklearn.neural_network import MLPClassifier"
      ],
      "metadata": {
        "id": "j2qsEz3OBIED"
      },
      "execution_count": null,
      "outputs": []
    },
    {
      "cell_type": "code",
      "source": [
        "mlp = MLPClassifier(max_iter= 5000000, random_state=10)\n",
        "mlp.fit(X_treinamento_norm, y_treinamento)"
      ],
      "metadata": {
        "colab": {
          "base_uri": "https://localhost:8080/"
        },
        "id": "ioYrI9IfBTry",
        "outputId": "c6c40acd-72c3-405c-8071-1901216cea9c"
      },
      "execution_count": null,
      "outputs": [
        {
          "output_type": "execute_result",
          "data": {
            "text/plain": [
              "MLPClassifier(max_iter=5000000, random_state=10)"
            ]
          },
          "metadata": {},
          "execution_count": 84
        }
      ]
    },
    {
      "cell_type": "code",
      "source": [
        "predicoes_mlp = mlp.predict(X_teste_norm)"
      ],
      "metadata": {
        "id": "OLEe2O-mBTuz"
      },
      "execution_count": null,
      "outputs": []
    },
    {
      "cell_type": "code",
      "source": [
        "matriz_mlp = confusion_matrix(y_teste, predicoes_mlp)\n",
        "matriz_mlp"
      ],
      "metadata": {
        "colab": {
          "base_uri": "https://localhost:8080/"
        },
        "id": "JwIaIssbBT4Y",
        "outputId": "526621fa-dce6-4a19-afaa-f483e28f234a"
      },
      "execution_count": null,
      "outputs": [
        {
          "output_type": "execute_result",
          "data": {
            "text/plain": [
              "array([[60, 17],\n",
              "       [21, 86]])"
            ]
          },
          "metadata": {},
          "execution_count": 86
        }
      ]
    },
    {
      "cell_type": "code",
      "source": [
        "nomes = np.unique(predicoes_mlp)\n",
        "plt.figure(figsize=(12,8))\n",
        "sns.heatmap(matriz_knn , square=True, annot=True, fmt='d', cbar=False,\n",
        "xticklabels=nomes, yticklabels=nomes)\n",
        "plt.xlabel('Predito');\n",
        "plt.ylabel('Verdadeiro');"
      ],
      "metadata": {
        "colab": {
          "base_uri": "https://localhost:8080/"
        },
        "id": "QufuWyqrBT7C",
        "outputId": "d39dbbb3-690c-4b4e-eb0c-5ffb7505e687"
      },
      "execution_count": null,
      "outputs": [
        {
          "output_type": "display_data",
          "data": {
            "text/plain": [
              "<Figure size 864x576 with 1 Axes>"
            ],
            "image/png": "[encoded data removed]"
          },
          "metadata": {
            "needs_background": "light"
          }
        }
      ]
    },
    {
      "cell_type": "code",
      "source": [
        "print(classification_report(y_teste,predicoes_mlp))"
      ],
      "metadata": {
        "colab": {
          "base_uri": "https://localhost:8080/"
        },
        "id": "Le69SwSGBT95",
        "outputId": "62b7085a-5987-4ed1-ad26-7ce257e4fbe1"
      },
      "execution_count": null,
      "outputs": [
        {
          "output_type": "stream",
          "name": "stdout",
          "text": [
            "              precision    recall  f1-score   support\n",
            "\n",
            "           0       0.74      0.78      0.76        77\n",
            "           1       0.83      0.80      0.82       107\n",
            "\n",
            "    accuracy                           0.79       184\n",
            "   macro avg       0.79      0.79      0.79       184\n",
            "weighted avg       0.80      0.79      0.79       184\n",
            "\n"
          ]
        }
      ]
    },
    {
      "cell_type": "markdown",
      "source": [
        "##SVM"
      ],
      "metadata": {
        "id": "8ML4MPQqCwzQ"
      }
    },
    {
      "cell_type": "code",
      "source": [
        "from sklearn.svm import SVC"
      ],
      "metadata": {
        "id": "Btsn7v6RC23m"
      },
      "execution_count": null,
      "outputs": []
    },
    {
      "cell_type": "code",
      "source": [
        "svm = SVC(random_state= 10)\n",
        "svm.fit(X_treinamento_norm, y_treinamento)"
      ],
      "metadata": {
        "colab": {
          "base_uri": "https://localhost:8080/"
        },
        "id": "j-zvoIQ_C3Ff",
        "outputId": "60ebce32-0a9c-4d68-9ad8-a7114b8eae4f"
      },
      "execution_count": null,
      "outputs": [
        {
          "output_type": "execute_result",
          "data": {
            "text/plain": [
              "SVC(random_state=10)"
            ]
          },
          "metadata": {},
          "execution_count": 90
        }
      ]
    },
    {
      "cell_type": "code",
      "source": [
        "predicoes_svm = mlp.predict(X_teste_norm)"
      ],
      "metadata": {
        "id": "qJxEZYHEC3Mc"
      },
      "execution_count": null,
      "outputs": []
    },
    {
      "cell_type": "code",
      "source": [
        "matriz_svm = confusion_matrix(y_teste, predicoes_svm)\n",
        "matriz_svm"
      ],
      "metadata": {
        "colab": {
          "base_uri": "https://localhost:8080/"
        },
        "id": "rnRThQ8JC3QX",
        "outputId": "fce584af-b487-4b9f-9f92-19fe3267f79d"
      },
      "execution_count": null,
      "outputs": [
        {
          "output_type": "execute_result",
          "data": {
            "text/plain": [
              "array([[60, 17],\n",
              "       [21, 86]])"
            ]
          },
          "metadata": {},
          "execution_count": 92
        }
      ]
    },
    {
      "cell_type": "code",
      "source": [
        "nomes = np.unique(predicoes_svm)\n",
        "plt.figure(figsize=(12,8))\n",
        "sns.heatmap(matriz_svm , square=True, annot=True, fmt='d', cbar=False,\n",
        "xticklabels=nomes, yticklabels=nomes)\n",
        "plt.xlabel('Predito');\n",
        "plt.ylabel('Verdadeiro');"
      ],
      "metadata": {
        "colab": {
          "base_uri": "https://localhost:8080/"
        },
        "id": "UjpmiNsVC3U6",
        "outputId": "00fbb3e1-7014-4709-8422-e7f6493cf3cd"
      },
      "execution_count": null,
      "outputs": [
        {
          "output_type": "display_data",
          "data": {
            "text/plain": [
              "<Figure size 864x576 with 1 Axes>"
            ],
            "image/png": "[encoded data removed]"
          },
          "metadata": {
            "needs_background": "light"
          }
        }
      ]
    },
    {
      "cell_type": "code",
      "source": [
        "print(classification_report(y_teste,predicoes_svm))"
      ],
      "metadata": {
        "colab": {
          "base_uri": "https://localhost:8080/"
        },
        "id": "DILPHuNaDuYp",
        "outputId": "b1fb40cc-3829-43a5-ad47-78f602ed6245"
      },
      "execution_count": null,
      "outputs": [
        {
          "output_type": "stream",
          "name": "stdout",
          "text": [
            "              precision    recall  f1-score   support\n",
            "\n",
            "           0       0.74      0.78      0.76        77\n",
            "           1       0.83      0.80      0.82       107\n",
            "\n",
            "    accuracy                           0.79       184\n",
            "   macro avg       0.79      0.79      0.79       184\n",
            "weighted avg       0.80      0.79      0.79       184\n",
            "\n"
          ]
        }
      ]
    },
    {
      "cell_type": "markdown",
      "source": [
        "#Tunning"
      ],
      "metadata": {
        "id": "0QPi2HH0F9zz"
      }
    },
    {
      "cell_type": "code",
      "source": [
        "#Concatenando treino e teste\n",
        "x_total = np.concatenate((X_treinamento_norm, X_teste_norm))\n",
        "y_total = np.concatenate((y_treinamento, y_teste))"
      ],
      "metadata": {
        "id": "jppjhU2UJdMD"
      },
      "execution_count": null,
      "outputs": []
    },
    {
      "cell_type": "code",
      "source": [
        "from sklearn.model_selection import GridSearchCV #Importando GridSearch para tunning de hiperparâmetros"
      ],
      "metadata": {
        "id": "8cntkyVjKNc3"
      },
      "execution_count": null,
      "outputs": []
    },
    {
      "cell_type": "markdown",
      "source": [
        "##Arvore de decisão"
      ],
      "metadata": {
        "id": "SHerWtI1I_fF"
      }
    },
    {
      "cell_type": "code",
      "source": [
        "#Criando dicionário para passar os parâmetros a serem testados\n",
        "parametros = {\n",
        "    'criterion': ['gini', 'entropy'],        #-> Com base no critério escolhido, o modelo definirá a importância de cada caractrística para a classificação.\n",
        "    'splitter': ['best', 'random'],          #-> Relacionado com 'criterion', o modelo toma o recurso de maior importância ou aleatoriamente\n",
        "    'min_samples_split': [2, 5, 10, 15],     #-> Define o número mínimo de amostras (ou observações) que são necessárias para considerar dividir um nó.\n",
        "    'min_samples_leaf': [1, 5, 10, 15],      #-> Número mínimo de amostras em cada folha.\n",
        "    'random_state': [10],                    #-> Aleatorierade do estimador, definindo um número inteiro, obtemos um comportamento determinístico. Também conhecido como \"semente\"\n",
        "    'max_depth': [3, 5, 7, 9, 15, 20,]       #-> Profundidade máxima da folha\n",
        "}"
      ],
      "metadata": {
        "id": "O5jiEhnEKZpL"
      },
      "execution_count": null,
      "outputs": []
    },
    {
      "cell_type": "code",
      "source": [
        "#grid_search = GridSearchCV(estimator=DecisionTreeClassifier(), param_grid=parametros)\n",
        "#grid_search.fit(x_total, y_total)"
      ],
      "metadata": {
        "id": "Bicj2jkbOH5A"
      },
      "execution_count": null,
      "outputs": []
    },
    {
      "cell_type": "code",
      "source": [
        "#melhores_h_parametros = grid_search.best_params_\n",
        "#melhor_resultado = grid_search.best_score_"
      ],
      "metadata": {
        "id": "f1b5LV_qOqjn"
      },
      "execution_count": null,
      "outputs": []
    },
    {
      "cell_type": "code",
      "source": [
        "#melhores_h_parametros"
      ],
      "metadata": {
        "id": "TOW-Jm3qOuEM"
      },
      "execution_count": null,
      "outputs": []
    },
    {
      "cell_type": "markdown",
      "source": [
        "{'criterion': 'gini', 'max_depth': 5, 'min_samples_leaf': 1, 'min_samples_split': 10, 'random_state': 10, 'splitter': 'random'}"
      ],
      "metadata": {
        "id": "7DA5cLg4gwl8"
      }
    },
    {
      "cell_type": "code",
      "source": [
        "#melhor_resultado"
      ],
      "metadata": {
        "id": "bmbqjqyKOwLg"
      },
      "execution_count": null,
      "outputs": []
    },
    {
      "cell_type": "markdown",
      "source": [
        "0.8583452126395817"
      ],
      "metadata": {
        "id": "4WwXlh22gyKt"
      }
    },
    {
      "cell_type": "markdown",
      "source": [
        "##KNN"
      ],
      "metadata": {
        "id": "QuwObYVKJEmo"
      }
    },
    {
      "cell_type": "code",
      "source": [
        "parametros = {\n",
        "    'weights' : ['uniform', 'distance'],                          #-> Peso atribuido as distâncias. 'uniform' = Mesmo peso para todos os vizinhos | 'Distance' = peso maior para vizinhos próximos\n",
        "    'algorithm' : ['auto', 'ball_tree', 'kd_tree', 'brute'],      #-> Algoritmo usado para calcular os vizinhos mais próximos\n",
        "    'n_neighbors': [1, 3, 5, 10, 20, 25, 30, 35],                 #-> Número de vizinhos a serem usados\n",
        "    'p': [1, 2],                                                  #-> 1 para distância de Manhattan | 2 para distância Euclidiana\n",
        "}"
      ],
      "metadata": {
        "id": "_ycRCC5gKaHI"
      },
      "execution_count": null,
      "outputs": []
    },
    {
      "cell_type": "code",
      "source": [
        "#grid_search = GridSearchCV(estimator=KNeighborsClassifier(), param_grid=parametros)\n",
        "#grid_search.fit(x_total, y_total)"
      ],
      "metadata": {
        "id": "1dvkYW7oTmXq"
      },
      "execution_count": null,
      "outputs": []
    },
    {
      "cell_type": "code",
      "source": [
        "#melhores_h_parametros = grid_search.best_params_\n",
        "#melhor_resultado = grid_search.best_score_"
      ],
      "metadata": {
        "id": "21m7S9k9Tt0I"
      },
      "execution_count": null,
      "outputs": []
    },
    {
      "cell_type": "code",
      "source": [
        "#melhores_h_parametros"
      ],
      "metadata": {
        "id": "mmy5arDWTv6A"
      },
      "execution_count": null,
      "outputs": []
    },
    {
      "cell_type": "markdown",
      "source": [
        "{'algorithm': 'auto', 1, 'n_neighbors': 25, 'p': 1, 'weights': 'uniform'}"
      ],
      "metadata": {
        "id": "QKI13h0Qg8uP"
      }
    },
    {
      "cell_type": "code",
      "source": [
        "#melhor_resultado"
      ],
      "metadata": {
        "id": "lb2aRdkdTxgB"
      },
      "execution_count": null,
      "outputs": []
    },
    {
      "cell_type": "markdown",
      "source": [
        " 0.8605547636018057"
      ],
      "metadata": {
        "id": "NzHapWnBg_Er"
      }
    },
    {
      "cell_type": "markdown",
      "source": [
        "##MLP\n",
        "Tunning do MLP foi feito no Pycharm por conta da limitação do Colab"
      ],
      "metadata": {
        "id": "DiAqujVmJEHJ"
      }
    },
    {
      "cell_type": "code",
      "source": [
        "\n",
        "parametros = {\n",
        "    'hidden_layer_sizes': [(2,), (2, 2), (2, 2, 2), (11, 300, 300, 2)],     #-> Número de camadas e nós\n",
        "    'solver': ['sgd', 'adam'],                                              #-> Algoritmo para otimização de peso nos nós.\n",
        "    'batch_size': [10, 50, 100, 125, 150, 175, 200, 'auto'],                #-> Tamanho do lote: Define o número de amostras que serão propagadas pela rede\n",
        "    'tol': [0.0001],                                                        #-> Tolerância para a otimização\n",
        "    'max_iter': [15000],                                                    #-> Número de iterações\n",
        "    'random_state': [10],                                                   #-> Aleatorierade do estimador, definindo um número inteiro, obtemos um comportamento determinístico. Também conhecido como \"semente\"\n",
        "    'activation': ['identity', 'logistic', 'tanh', 'relu'],                 #-> Funções de ativação: dão ao modelo poder para ser mais flexível na descrição de relações arbitrárias.\n",
        "    'learning_rate': ['constant', 'invscaling', 'adaptive']                 #-> Taxa de aprendizagem\n",
        "}\n"
      ],
      "metadata": {
        "id": "iODURaQmKajt"
      },
      "execution_count": null,
      "outputs": []
    },
    {
      "cell_type": "code",
      "source": [
        "#grid_search = GridSearchCV(estimator=MLPClassifier(), param_grid=parametros)\n",
        "#grid_search.fit(x_total, y_total)"
      ],
      "metadata": {
        "id": "Y9JMlFXZZELk"
      },
      "execution_count": null,
      "outputs": []
    },
    {
      "cell_type": "code",
      "source": [
        "#melhores_h_parametros = grid_search.best_params_\n",
        "#melhor_resultado = grid_search.best_score_"
      ],
      "metadata": {
        "id": "Q-8_SxeGeAro"
      },
      "execution_count": null,
      "outputs": []
    },
    {
      "cell_type": "code",
      "source": [
        "#melhores_h_parametros"
      ],
      "metadata": {
        "id": "A03keaQ2eF3A"
      },
      "execution_count": null,
      "outputs": []
    },
    {
      "cell_type": "markdown",
      "source": [
        "{'activation': 'relu', 'batch_size': 50, 'hidden_layer_sizes': (2, 2, 2), 'learning_rate': 'constant', 'max_iter': 15000, 'random_state': 10, 'solver': 'adam', 'tol': 0.0001}\n"
      ],
      "metadata": {
        "id": "jzOyzxjDe4Jx"
      }
    },
    {
      "cell_type": "code",
      "source": [
        "#melhor_resultado"
      ],
      "metadata": {
        "id": "cKNjAiO6eGVW"
      },
      "execution_count": null,
      "outputs": []
    },
    {
      "cell_type": "markdown",
      "source": [
        "0.8692682347350914"
      ],
      "metadata": {
        "id": "8xxH1blLfAE2"
      }
    },
    {
      "cell_type": "markdown",
      "source": [
        "##Random Forest"
      ],
      "metadata": {
        "id": "x91x_TURxuAQ"
      }
    },
    {
      "cell_type": "code",
      "source": [
        "\"\"\"\n",
        "parametros = {\n",
        "'n_estimators': [100,1000],               #-> Número de estimadores\n",
        "'min_samples_leaf': [1, 5, 10,14,20],     #-> Número mínimo de amostras em cada folha\n",
        "'min_samples_split': [2, 5, 10, 14,20],   #-> Número mínimo de amostras exigido para separar um nó.\n",
        "'max_features': [\"auto\", \"sqrt\", \"log2\"], #-> Número de atributos para analisar na separação. O default são todos.\n",
        "'random_state': [10],                     \n",
        "'bootstrap':[True, False]                 #-> \n",
        "}\n",
        "\"\"\""
      ],
      "metadata": {
        "colab": {
          "base_uri": "https://localhost:8080/"
        },
        "id": "mNOcus4Oy9kJ",
        "outputId": "d3b7e211-a8f5-43bf-b5df-47dcab43dc24"
      },
      "execution_count": null,
      "outputs": [
        {
          "output_type": "execute_result",
          "data": {
            "text/plain": [
              "'\\nparametros = {\\n\\'n_estimators\\': [100,1000],               #-> Número de estimadores\\n\\'min_samples_leaf\\': [1, 5, 10,14,20],     #-> Número mínimo de amostras em cada folha\\n\\'min_samples_split\\': [2, 5, 10, 14,20],   #-> Número mínimo de amostras exigido para separar um nó.\\n\\'max_features\\': [\"auto\", \"sqrt\", \"log2\"], #-> Número de atributos para analisar na separação. O default são todos.\\n\\'random_state\\': [10],                     \\n\\'bootstrap\\':[True, False]                 #-> \\n}\\n'"
            ],
            "application/vnd.google.colaboratory.intrinsic+json": {
              "type": "string"
            }
          },
          "metadata": {},
          "execution_count": 112
        }
      ]
    },
    {
      "cell_type": "code",
      "source": [
        "#grid_search = GridSearchCV(estimator=RandomForestClassifier(), param_grid=parametros)\n",
        "#grid_search.fit(x_total, y_total)"
      ],
      "metadata": {
        "id": "QRAwoHa1xyfH"
      },
      "execution_count": null,
      "outputs": []
    },
    {
      "cell_type": "code",
      "source": [
        "#melhores_h_parametros = grid_search.best_params_\n",
        "#melhor_resultado = grid_search.best_score_"
      ],
      "metadata": {
        "id": "DYGG5-U2DTDE"
      },
      "execution_count": null,
      "outputs": []
    },
    {
      "cell_type": "code",
      "source": [
        "#melhores_h_parametros"
      ],
      "metadata": {
        "id": "SYV6ff2RzLCc"
      },
      "execution_count": null,
      "outputs": []
    },
    {
      "cell_type": "markdown",
      "source": [
        "bootstrap': True, 'max_features': 'auto', 'min_samples_leaf': 5, 'min_samples_split': 2, 'n_estimators': 1000, 'random_state': 10"
      ],
      "metadata": {
        "id": "hLpBX-1LzRQa"
      }
    },
    {
      "cell_type": "code",
      "source": [
        "#melhor_resultado"
      ],
      "metadata": {
        "id": "PwrnNx8XzQKN"
      },
      "execution_count": null,
      "outputs": []
    },
    {
      "cell_type": "markdown",
      "source": [
        "##XGboost"
      ],
      "metadata": {
        "id": "L51Danrmz0fK"
      }
    },
    {
      "cell_type": "code",
      "source": [
        "\"\"\"\n",
        "parametros_xg = {\n",
        "'n_estimators': [100, 1000], #-> Número de estimadores\n",
        "'learning_rate': [0.02, 0.035, 0.05, 0.07, 0.09, 0.1], #-> Taxa de aprendizagem\n",
        "'max_depth': [1,3,5,7,9,15,20], #-> Comprimento da árvore vertical\n",
        "'min_child_weight': [1, 5, 10,14,20], #-> Quantidade de amostras no último nó\n",
        "'subsample': [0.3,0.5,0.7,0.9,1], #->  Fração das amostras a serem usadas na próxima rodada.\n",
        "'random_state': [10]\n",
        "}\n",
        "\"\"\""
      ],
      "metadata": {
        "id": "6PVtpQCTz_lS",
        "colab": {
          "base_uri": "https://localhost:8080/"
        },
        "outputId": "5253f65b-fd92-4ea1-bafb-e5b82e3ce4f1"
      },
      "execution_count": null,
      "outputs": [
        {
          "output_type": "execute_result",
          "data": {
            "text/plain": [
              "\"\\nparametros_xg = {\\n'n_estimators': [100, 1000], #-> Número de estimadores\\n'learning_rate': [0.02, 0.035, 0.05, 0.07, 0.09, 0.1], #-> Taxa de aprendizagem\\n'max_depth': [1,3,5,7,9,15,20], #-> Comprimento da árvore vertical\\n'min_child_weight': [1, 5, 10,14,20], #-> Quantidade de amostras no último nó\\n'subsample': [0.3,0.5,0.7,0.9,1], #->  Fração das amostras a serem usadas na próxima rodada.\\n'random_state': [10]\\n}\\n\""
            ],
            "application/vnd.google.colaboratory.intrinsic+json": {
              "type": "string"
            }
          },
          "metadata": {},
          "execution_count": 117
        }
      ]
    },
    {
      "cell_type": "code",
      "source": [
        "#grid_search = GridSearchCV(estimator=XGBClassifier(), param_grid=parametros)\n",
        "#grid_search.fit(x_total, y_total)"
      ],
      "metadata": {
        "id": "2JwLzOcn0CLV"
      },
      "execution_count": null,
      "outputs": []
    },
    {
      "cell_type": "code",
      "source": [
        "#melhores_h_parametros = grid_search.best_params_\n",
        "#melhor_resultado = grid_search.best_score_"
      ],
      "metadata": {
        "id": "9_uD6__nDYev"
      },
      "execution_count": null,
      "outputs": []
    },
    {
      "cell_type": "code",
      "source": [
        "#melhores_h_parametros"
      ],
      "metadata": {
        "id": "89F034tnDAPZ"
      },
      "execution_count": null,
      "outputs": []
    },
    {
      "cell_type": "markdown",
      "source": [
        "{'learning_rate': 0.035,\n",
        " 'max_depth': 5,\n",
        " 'min_child_weight': 10,\n",
        " 'n_estimators': 100,\n",
        " 'random_state': 10,\n",
        " 'subsample': 0.9}"
      ],
      "metadata": {
        "id": "fP33vxZEDFY6"
      }
    },
    {
      "cell_type": "code",
      "source": [
        "#melhor_resultado"
      ],
      "metadata": {
        "id": "_5OZgsm6DGrv"
      },
      "execution_count": null,
      "outputs": []
    },
    {
      "cell_type": "markdown",
      "source": [
        "0.7608695652173914"
      ],
      "metadata": {
        "id": "iZLNlJLFDIsi"
      }
    },
    {
      "cell_type": "markdown",
      "source": [
        "##SVM"
      ],
      "metadata": {
        "id": "UhIEry0H0Sr3"
      }
    },
    {
      "cell_type": "code",
      "source": [
        "\"\"\"\n",
        "param_grid_svm = {'C': [0.1,1, 10, 100], #-> Parâmetro de penalidade\n",
        "                  'gamma': [1,0.1,0.01,0.001], #-> Coeficiente do Kernel\n",
        "                  'kernel': ['rbf', 'poly', 'sigmoid'],\n",
        "                  'random_state': [10]}\n",
        "\"\"\""
      ],
      "metadata": {
        "colab": {
          "base_uri": "https://localhost:8080/"
        },
        "id": "0QYbx2wH0Umj",
        "outputId": "f936f8e8-2b3c-456e-c5f2-2a296190849e"
      },
      "execution_count": null,
      "outputs": [
        {
          "output_type": "execute_result",
          "data": {
            "text/plain": [
              "\"\\nparam_grid_svm = {'C': [0.1,1, 10, 100], #-> Parâmetro de penalidade\\n                  'gamma': [1,0.1,0.01,0.001], #-> Coeficiente do Kernel\\n                  'kernel': ['rbf', 'poly', 'sigmoid'],\\n                  'random_state': [10]}\\n\""
            ],
            "application/vnd.google.colaboratory.intrinsic+json": {
              "type": "string"
            }
          },
          "metadata": {},
          "execution_count": 122
        }
      ]
    },
    {
      "cell_type": "code",
      "source": [
        "#grid_search = GridSearchCV(estimator=SVC(), param_grid = param_grid_svm)\n",
        "#grid_final = grid_search.fit(X_treinamento_norm, y_treinamento)"
      ],
      "metadata": {
        "id": "R_8-LWjs0lpg"
      },
      "execution_count": null,
      "outputs": []
    },
    {
      "cell_type": "code",
      "source": [
        "#melhores_h_parametros"
      ],
      "metadata": {
        "id": "2KVw-VY_53K8"
      },
      "execution_count": null,
      "outputs": []
    },
    {
      "cell_type": "markdown",
      "source": [
        "{'C': 1, 'gamma': 0.01, 'kernel': 'rbf', 'random_state': 10}"
      ],
      "metadata": {
        "id": "bOthtO8r536F"
      }
    },
    {
      "cell_type": "code",
      "source": [
        "#melhor_resultado"
      ],
      "metadata": {
        "id": "fZfgtZrD56kY"
      },
      "execution_count": null,
      "outputs": []
    },
    {
      "cell_type": "markdown",
      "source": [
        "0.8637871586990962"
      ],
      "metadata": {
        "id": "Ba-QkRzC59ez"
      }
    },
    {
      "cell_type": "markdown",
      "source": [
        "##Cross Validation"
      ],
      "metadata": {
        "id": "J8n6CRHAh5Oh"
      }
    },
    {
      "cell_type": "code",
      "source": [
        "from sklearn.model_selection import cross_val_score, KFold"
      ],
      "metadata": {
        "id": "RoygZ3GMgdvt"
      },
      "execution_count": null,
      "outputs": []
    },
    {
      "cell_type": "markdown",
      "source": [
        "DT"
      ],
      "metadata": {
        "id": "pMF80uhMh8V0"
      }
    },
    {
      "cell_type": "code",
      "source": [
        "dt = DecisionTreeClassifier(criterion='gini', max_depth=5, min_samples_leaf=1,\n",
        "                            min_samples_split=10, random_state=10, splitter='random')"
      ],
      "metadata": {
        "id": "YmriOT6WgjDa"
      },
      "execution_count": null,
      "outputs": []
    },
    {
      "cell_type": "markdown",
      "source": [
        "KNN"
      ],
      "metadata": {
        "id": "IyMmOrzUiC2N"
      }
    },
    {
      "cell_type": "code",
      "source": [
        "knn = KNeighborsClassifier(algorithm='auto', n_neighbors=25, p=1, weights= 'uniform')"
      ],
      "metadata": {
        "id": "VwMxigouhgWX"
      },
      "execution_count": null,
      "outputs": []
    },
    {
      "cell_type": "markdown",
      "source": [
        "MLP"
      ],
      "metadata": {
        "id": "ljNmY219iXjU"
      }
    },
    {
      "cell_type": "code",
      "source": [
        "#mlp = MLPClassifier(activation='relu', batch_size=50, \n",
        " #                   hidden_layer_sizes=(2, 2, 2), \n",
        "  #                  learning_rate='constant', max_iter=15000, \n",
        "   #                 random_state=10, solver='adam', tol=0.0001)"
      ],
      "metadata": {
        "id": "jO_cpGlOiUND"
      },
      "execution_count": null,
      "outputs": []
    },
    {
      "cell_type": "markdown",
      "source": [
        "RF\n",
        "\n"
      ],
      "metadata": {
        "id": "jpBiWR-86ECu"
      }
    },
    {
      "cell_type": "code",
      "source": [
        "rf = RandomForestClassifier(bootstrap='True', max_features= 'auto', \n",
        "                            min_samples_leaf=5, min_samples_split=2, \n",
        "                            n_estimators=1000, random_state=10)"
      ],
      "metadata": {
        "id": "OtjJYgQKyI4q"
      },
      "execution_count": null,
      "outputs": []
    },
    {
      "cell_type": "markdown",
      "source": [
        "SVM"
      ],
      "metadata": {
        "id": "VMhD9IeV65nI"
      }
    },
    {
      "cell_type": "code",
      "source": [
        "svm = SVC(C=1, gamma=0.01, kernel='rbf', random_state=10)"
      ],
      "metadata": {
        "id": "YOednWWF6g2j"
      },
      "execution_count": null,
      "outputs": []
    },
    {
      "cell_type": "markdown",
      "source": [
        "XG"
      ],
      "metadata": {
        "id": "APRjDxg46-mp"
      }
    },
    {
      "cell_type": "code",
      "source": [
        "#xg = XGBClassifier(learning_rate=0.035, max_depth=5, min_child_weight=10, n_estimators=100, random_state=10, subsample=0.9)"
      ],
      "metadata": {
        "id": "7IdJRNRh6-Tk"
      },
      "execution_count": null,
      "outputs": []
    },
    {
      "cell_type": "code",
      "source": [
        "nb = metodo_CNB"
      ],
      "metadata": {
        "id": "rT5tZs-3Z3f0"
      },
      "execution_count": null,
      "outputs": []
    },
    {
      "cell_type": "markdown",
      "source": [
        "Fazendo 10-fold CV"
      ],
      "metadata": {
        "id": "EcySG0XpjCLQ"
      }
    },
    {
      "cell_type": "code",
      "source": [
        "resultados_DT = []\n",
        "resultados_RF = []\n",
        "resultados_KNN = []\n",
        "resultados_SVM = []\n",
        "resultados_NB = []\n",
        "#resultados_MLP = []\n",
        "#resultados_XG = []"
      ],
      "metadata": {
        "id": "tWQ4oMHCgirk"
      },
      "execution_count": null,
      "outputs": []
    },
    {
      "cell_type": "code",
      "source": [
        "for i in range(30):\n",
        "  particoes = KFold(n_splits=10, shuffle=True, random_state=i)\n",
        "\n",
        "  scores = cross_val_score(nb, X_treinamento, y_treinamento, cv = particoes)\n",
        "  resultados_NB.append(scores.mean())\n",
        "\n",
        "  scores = cross_val_score(dt, x_total, y_total, cv = particoes)\n",
        "  resultados_DT.append(scores.mean())\n",
        "\n",
        "  scores = cross_val_score(knn, x_total, y_total, cv = particoes)\n",
        "  resultados_KNN.append(scores.mean())\n",
        "\n",
        "  #scores = cross_val_score(mlp, x_total, y_total, cv = particoes)\n",
        "  #resultados_MLP.append(scores.mean())\n",
        "  \n",
        "  scores = cross_val_score(rf, x_total, y_total, cv = particoes)\n",
        "  resultados_RF.append(scores.mean())\n",
        "  \n",
        "  scores = cross_val_score(svm, x_total, y_total, cv = particoes)\n",
        "  resultados_SVM.append(scores.mean())\n",
        "\n",
        "  #scores = cross_val_score(xg, x_total, y_total, cv = particoes)\n",
        "  #resultados_XG.append(scores.mean())"
      ],
      "metadata": {
        "id": "YC6NQ1kEjQw1",
        "colab": {
          "base_uri": "https://localhost:8080/"
        },
        "outputId": "7d12bd35-c79f-47bb-8e6c-270d8fb51669"
      },
      "execution_count": null,
      "outputs": [
        {
          "output_type": "stream",
          "name": "stderr",
          "text": [
            "/usr/local/lib/python3.7/dist-packages/sklearn/model_selection/_validation.py:774: UserWarning:\n",
            "\n",
            "Scoring failed. The score on this train-test partition for these parameters will be set to nan. Details: \n",
            "Traceback (most recent call last):\n",
            "  File \"/usr/local/lib/python3.7/dist-packages/sklearn/model_selection/_validation.py\", line 761, in _score\n",
            "    scores = scorer(estimator, X_test, y_test)\n",
            "  File \"/usr/local/lib/python3.7/dist-packages/sklearn/metrics/_scorer.py\", line 105, in __call__\n",
            "    score = scorer(estimator, *args, **kwargs)\n",
            "  File \"/usr/local/lib/python3.7/dist-packages/sklearn/metrics/_scorer.py\", line 418, in _passthrough_scorer\n",
            "    return estimator.score(*args, **kwargs)\n",
            "  File \"/usr/local/lib/python3.7/dist-packages/sklearn/base.py\", line 651, in score\n",
            "    return accuracy_score(y, self.predict(X), sample_weight=sample_weight)\n",
            "  File \"/usr/local/lib/python3.7/dist-packages/sklearn/naive_bayes.py\", line 83, in predict\n",
            "    jll = self._joint_log_likelihood(X)\n",
            "  File \"/usr/local/lib/python3.7/dist-packages/sklearn/naive_bayes.py\", line 1461, in _joint_log_likelihood\n",
            "    jll += self.feature_log_prob_[i][:, indices].T\n",
            "IndexError: index 4 is out of bounds for axis 1 with size 4\n",
            "\n",
            "\n"
          ]
        }
      ]
    },
    {
      "cell_type": "code",
      "source": [
        "resultadosf1_DT = []\n",
        "resultadosf1_RF = []\n",
        "resultadosf1_KNN = []\n",
        "resultadosf1_SVM = []\n",
        "resultadosf1_NB = []\n",
        "#resultadosf1_MLP = []\n",
        "#resultadosf1_XG = []"
      ],
      "metadata": {
        "id": "rLwt3lwYDzEH"
      },
      "execution_count": null,
      "outputs": []
    },
    {
      "cell_type": "code",
      "source": [
        "#Caso necessario\n",
        "#resultadosf1_DT.clear()\n",
        "#resultadosf1_RF.clear()\n",
        "#resultadosf1_KNN.clear()\n",
        "#resultadosf1_SVM.clear()\n",
        "#resultadosf1_NB.clear()\n",
        "#resultadosf1_MLP.clear()\n",
        "#resultadosf1_XG.clear()\n"
      ],
      "metadata": {
        "id": "u2TPG8hpp04D"
      },
      "execution_count": null,
      "outputs": []
    },
    {
      "cell_type": "code",
      "source": [
        "for i in range(30):\n",
        "  particoesf1 = KFold(n_splits=10, shuffle=True, random_state=i)\n",
        "\n",
        "  scores = cross_val_score(nb, X_treinamento, y_treinamento, cv = particoesf1, scoring = 'f1')\n",
        "  resultadosf1_NB.append(scores.mean())"
      ],
      "metadata": {
        "colab": {
          "base_uri": "https://localhost:8080/"
        },
        "id": "mSQM8uFUqIPs",
        "outputId": "baa5d74a-113b-4766-e9f3-7020b91429a1"
      },
      "execution_count": null,
      "outputs": [
        {
          "output_type": "stream",
          "name": "stderr",
          "text": [
            "/usr/local/lib/python3.7/dist-packages/sklearn/model_selection/_validation.py:774: UserWarning:\n",
            "\n",
            "Scoring failed. The score on this train-test partition for these parameters will be set to nan. Details: \n",
            "Traceback (most recent call last):\n",
            "  File \"/usr/local/lib/python3.7/dist-packages/sklearn/model_selection/_validation.py\", line 761, in _score\n",
            "    scores = scorer(estimator, X_test, y_test)\n",
            "  File \"/usr/local/lib/python3.7/dist-packages/sklearn/metrics/_scorer.py\", line 103, in __call__\n",
            "    score = scorer._score(cached_call, estimator, *args, **kwargs)\n",
            "  File \"/usr/local/lib/python3.7/dist-packages/sklearn/metrics/_scorer.py\", line 258, in _score\n",
            "    y_pred = method_caller(estimator, \"predict\", X)\n",
            "  File \"/usr/local/lib/python3.7/dist-packages/sklearn/metrics/_scorer.py\", line 68, in _cached_call\n",
            "    return getattr(estimator, method)(*args, **kwargs)\n",
            "  File \"/usr/local/lib/python3.7/dist-packages/sklearn/naive_bayes.py\", line 83, in predict\n",
            "    jll = self._joint_log_likelihood(X)\n",
            "  File \"/usr/local/lib/python3.7/dist-packages/sklearn/naive_bayes.py\", line 1461, in _joint_log_likelihood\n",
            "    jll += self.feature_log_prob_[i][:, indices].T\n",
            "IndexError: index 4 is out of bounds for axis 1 with size 4\n",
            "\n",
            "\n"
          ]
        }
      ]
    },
    {
      "cell_type": "code",
      "source": [
        "for i in range(30):\n",
        "  particoesf1 = KFold(n_splits=10, shuffle=True, random_state=i)\n",
        "\n",
        "  scores = cross_val_score(dt, x_total, y_total, cv = particoesf1, scoring = 'f1')\n",
        "  resultadosf1_DT.append(scores.mean())"
      ],
      "metadata": {
        "id": "kz3heBF5rn-I"
      },
      "execution_count": null,
      "outputs": []
    },
    {
      "cell_type": "code",
      "source": [
        "for i in range(30):\n",
        "  particoesf1 = KFold(n_splits=10, shuffle=True, random_state=i)\n",
        "\n",
        "  scores = cross_val_score(knn, x_total, y_total, cv = particoesf1, scoring = 'f1')\n",
        "  resultadosf1_KNN.append(scores.mean())"
      ],
      "metadata": {
        "id": "aqJCzBLHrrtA"
      },
      "execution_count": null,
      "outputs": []
    },
    {
      "cell_type": "code",
      "source": [
        "#for i in range(30):\n",
        " # particoesf1 = KFold(n_splits=10, shuffle=True, random_state=i)\n",
        "#\n",
        " # scores = cross_val_score(mlp, x_total, y_total, cv = particoesf1, scoring = 'f1')\n",
        "  #resultadosf1_MLP.append(scores.mean())"
      ],
      "metadata": {
        "id": "k3BEPMYyrwUV"
      },
      "execution_count": null,
      "outputs": []
    },
    {
      "cell_type": "code",
      "source": [
        "for i in range(30):\n",
        "  particoesf1 = KFold(n_splits=10, shuffle=True, random_state=i)\n",
        "\n",
        "  scores = cross_val_score(rf, x_total, y_total, cv = particoesf1, scoring = 'f1')\n",
        "  resultadosf1_RF.append(scores.mean())"
      ],
      "metadata": {
        "id": "33PAjj40r6mF"
      },
      "execution_count": null,
      "outputs": []
    },
    {
      "cell_type": "code",
      "source": [
        "for i in range(30):\n",
        "  particoesf1 = KFold(n_splits=10, shuffle=True, random_state=i)\n",
        "\n",
        "  scores = cross_val_score(svm, x_total, y_total, cv = particoesf1, scoring = 'f1')\n",
        "  resultadosf1_SVM.append(scores.mean())"
      ],
      "metadata": {
        "id": "vLRMjONXr_P0"
      },
      "execution_count": null,
      "outputs": []
    },
    {
      "cell_type": "code",
      "source": [
        "#for i in range(30):\n",
        " # particoesf1 = KFold(n_splits=10, shuffle=True, random_state=i)\n",
        " #\n",
        "  #scores = cross_val_score(xg, x_total, y_total, cv = particoesf1, scoring = 'f1')\n",
        "  #resultadosf1_XG.append(scores.mean())\n"
      ],
      "metadata": {
        "id": "_r6GFfo_sDts"
      },
      "execution_count": null,
      "outputs": []
    },
    {
      "cell_type": "code",
      "source": [
        "resultados_NB"
      ],
      "metadata": {
        "colab": {
          "base_uri": "https://localhost:8080/"
        },
        "id": "BMKV1HmIZFxL",
        "outputId": "219c0acd-7bb2-41bf-e6a2-ff8b555aa921"
      },
      "execution_count": null,
      "outputs": [
        {
          "output_type": "execute_result",
          "data": {
            "text/plain": [
              "[0.8582932247315809,\n",
              " 0.8651795631247685,\n",
              " 0.8596815994076268,\n",
              " 0.8623287671232877,\n",
              " 0.8609033691225472,\n",
              " 0.8651425398000742,\n",
              " 0.8609959274342837,\n",
              " 0.8609774157719363,\n",
              " 0.8609774157719363,\n",
              " 0.862550907071455,\n",
              " 0.8596630877452794,\n",
              " 0.8569603850425767,\n",
              " 0.8611810440577564,\n",
              " 0.8625138837467604,\n",
              " nan,\n",
              " 0.8610699740836726,\n",
              " 0.8637356534616808,\n",
              " 0.8596075527582379,\n",
              " 0.8638652350981119,\n",
              " 0.8625694187338023,\n",
              " 0.8596075527582376,\n",
              " 0.8569233617178822,\n",
              " 0.8595705294335432,\n",
              " 0.8556090336912254,\n",
              " 0.8596445760829322,\n",
              " 0.8650870048130322,\n",
              " 0.8622732321362457,\n",
              " 0.8624953720844131,\n",
              " 0.8597926693817104,\n",
              " 0.8623843021103295]"
            ]
          },
          "metadata": {},
          "execution_count": 145
        }
      ]
    },
    {
      "cell_type": "code",
      "source": [
        "resultadosf1_NB"
      ],
      "metadata": {
        "colab": {
          "base_uri": "https://localhost:8080/"
        },
        "id": "Hl6ij7JLb1qM",
        "outputId": "6c29fe00-e4e7-4f90-c9c9-c5e6553d3cf8"
      },
      "execution_count": null,
      "outputs": [
        {
          "output_type": "execute_result",
          "data": {
            "text/plain": [
              "[0.869050383441411,\n",
              " 0.8753144070833008,\n",
              " 0.8717422580396044,\n",
              " 0.873890739403625,\n",
              " 0.8654307475269721,\n",
              " 0.8735801462158352,\n",
              " 0.8720605479284622,\n",
              " 0.87109630130211,\n",
              " 0.8710883612798799,\n",
              " 0.8728115714147615,\n",
              " 0.8672549684782469,\n",
              " 0.8669565210234603,\n",
              " 0.8717972407511159,\n",
              " 0.8712018015979701,\n",
              " nan,\n",
              " 0.8711309416312846,\n",
              " 0.8744041485293466,\n",
              " 0.8716922303833453,\n",
              " 0.8722371889268284,\n",
              " 0.8741799682004803,\n",
              " 0.8691175492413867,\n",
              " 0.8695272027311691,\n",
              " 0.8705269711488516,\n",
              " 0.8645177153268065,\n",
              " 0.8718257470136702,\n",
              " 0.8762020024280037,\n",
              " 0.8748584067531873,\n",
              " 0.8724795352608347,\n",
              " 0.8678075297129053,\n",
              " 0.8725779314470721]"
            ]
          },
          "metadata": {},
          "execution_count": 146
        }
      ]
    },
    {
      "cell_type": "code",
      "source": [
        "resultados_DT"
      ],
      "metadata": {
        "colab": {
          "base_uri": "https://localhost:8080/"
        },
        "id": "I58gd72tkiMT",
        "outputId": "0c9a2a1f-4697-4b9d-f0b4-ed76b26bf679"
      },
      "execution_count": null,
      "outputs": [
        {
          "output_type": "execute_result",
          "data": {
            "text/plain": [
              "[0.8562947921643573,\n",
              " 0.840934065934066,\n",
              " 0.8486144290492117,\n",
              " 0.8474558050645007,\n",
              " 0.8562350692785475,\n",
              " 0.8496894409937887,\n",
              " 0.8474916387959865,\n",
              " 0.8561514572384137,\n",
              " 0.8561992355470617,\n",
              " 0.85072861920688,\n",
              " 0.8539536550406115,\n",
              " 0.8550883898709987,\n",
              " 0.8475394171046344,\n",
              " 0.8551003344481607,\n",
              " 0.8365384615384615,\n",
              " 0.8497252747252748,\n",
              " 0.8398590539894887,\n",
              " 0.8529741997133302,\n",
              " 0.8605948399426661,\n",
              " 0.850764452938366,\n",
              " 0.8442188246536071,\n",
              " 0.8387720974677496,\n",
              " 0.8550645007166746,\n",
              " 0.8551361681796464,\n",
              " 0.8409698996655518,\n",
              " 0.8410176779741997,\n",
              " 0.843167701863354,\n",
              " 0.8541208791208792,\n",
              " 0.8508241758241759,\n",
              " 0.8595556617295749]"
            ]
          },
          "metadata": {},
          "execution_count": 147
        }
      ]
    },
    {
      "cell_type": "code",
      "source": [
        "resultadosf1_DT"
      ],
      "metadata": {
        "colab": {
          "base_uri": "https://localhost:8080/"
        },
        "id": "mHc-4ZEoYjJa",
        "outputId": "77ed119e-045c-44dc-db43-27d030c1cd62"
      },
      "execution_count": null,
      "outputs": [
        {
          "output_type": "execute_result",
          "data": {
            "text/plain": [
              "[0.8735270594432867,\n",
              " 0.8581162550569325,\n",
              " 0.8675224985141158,\n",
              " 0.8634797634242354,\n",
              " 0.8715342161370311,\n",
              " 0.868158617145102,\n",
              " 0.8645665990011455,\n",
              " 0.8711180400346563,\n",
              " 0.8725770676670888,\n",
              " 0.8682830662268224,\n",
              " 0.8700533600643944,\n",
              " 0.8735789975879715,\n",
              " 0.8644081290900733,\n",
              " 0.8715791355365115,\n",
              " 0.8545889259513991,\n",
              " 0.8648014189016265,\n",
              " 0.8598595890747267,\n",
              " 0.8717046977894688,\n",
              " 0.8768775920316008,\n",
              " 0.8679339827336582,\n",
              " 0.8617491226535003,\n",
              " 0.8540827057036949,\n",
              " 0.8739968912001492,\n",
              " 0.8724070758555772,\n",
              " 0.8540657840263147,\n",
              " 0.8576289800080958,\n",
              " 0.8640434336570332,\n",
              " 0.868735468531594,\n",
              " 0.8668575462327585,\n",
              " 0.875458801194165]"
            ]
          },
          "metadata": {},
          "execution_count": 148
        }
      ]
    },
    {
      "cell_type": "code",
      "source": [
        "resultados_KNN"
      ],
      "metadata": {
        "colab": {
          "base_uri": "https://localhost:8080/"
        },
        "id": "-FlDJ66bkkZA",
        "outputId": "90c31c88-3a32-4617-e733-1c1718aaeca3"
      },
      "execution_count": null,
      "outputs": [
        {
          "output_type": "execute_result",
          "data": {
            "text/plain": [
              "[0.8606426182513138,\n",
              " 0.8572623029144768,\n",
              " 0.8649904443382704,\n",
              " 0.8615623506927854,\n",
              " 0.8606067845198281,\n",
              " 0.8627209746774962,\n",
              " 0.8605470616340181,\n",
              " 0.8616579073100812,\n",
              " 0.8626851409460106,\n",
              " 0.860582895365504,\n",
              " 0.8637840420449117,\n",
              " 0.8627329192546584,\n",
              " 0.8605948399426658,\n",
              " 0.8606067845198281,\n",
              " 0.8594839942666029,\n",
              " 0.8649665551839464,\n",
              " 0.8606187290969901,\n",
              " 0.8605948399426661,\n",
              " 0.8605948399426658,\n",
              " 0.8649187768752986,\n",
              " 0.8572742474916388,\n",
              " 0.8583612040133779,\n",
              " 0.857226469182991,\n",
              " 0.8616698518872431,\n",
              " 0.8616340181557574,\n",
              " 0.8562470138557096,\n",
              " 0.8594720496894409,\n",
              " 0.8628404204491161,\n",
              " 0.8682274247491639,\n",
              " 0.8616817964644051]"
            ]
          },
          "metadata": {},
          "execution_count": 149
        }
      ]
    },
    {
      "cell_type": "code",
      "source": [
        "resultadosf1_KNN"
      ],
      "metadata": {
        "colab": {
          "base_uri": "https://localhost:8080/"
        },
        "id": "V6qM1zaRYoNJ",
        "outputId": "15f3ce6e-2f0c-4e9a-ff17-ea6381357cb7"
      },
      "execution_count": null,
      "outputs": [
        {
          "output_type": "execute_result",
          "data": {
            "text/plain": [
              "[0.8773909338220394,\n",
              " 0.8722370364028409,\n",
              " 0.8801993417125693,\n",
              " 0.8738159703749687,\n",
              " 0.8744104934040449,\n",
              " 0.8781874860502962,\n",
              " 0.8752654417357058,\n",
              " 0.8760839630113306,\n",
              " 0.8782551564671298,\n",
              " 0.875177763966942,\n",
              " 0.8787280465268493,\n",
              " 0.8781476862476391,\n",
              " 0.8750689933417665,\n",
              " 0.8762281583053853,\n",
              " 0.8755719720116826,\n",
              " 0.876714544636134,\n",
              " 0.8761687676804708,\n",
              " 0.8771448499613544,\n",
              " 0.8741268447848174,\n",
              " 0.8804711081176755,\n",
              " 0.8717093735509153,\n",
              " 0.8726496785833231,\n",
              " 0.8759128484582771,\n",
              " 0.8775653177481711,\n",
              " 0.8757597897208729,\n",
              " 0.8698705598834356,\n",
              " 0.8752564795316287,\n",
              " 0.8764062186450923,\n",
              " 0.882299257492388,\n",
              " 0.8760267121341926]"
            ]
          },
          "metadata": {},
          "execution_count": 150
        }
      ]
    },
    {
      "cell_type": "code",
      "source": [
        "resultados =pd.DataFrame({'DT':(resultados_DT), 'RF':(resultados_RF), 'KNN':(resultados_KNN),\n",
        "'SVM':(resultados_SVM), 'NB':(resultados_NB)})  #,'MLP':(resultados_MLP), 'XG':(resultados_XG)"
      ],
      "metadata": {
        "id": "F1THXmDElHA6"
      },
      "execution_count": null,
      "outputs": []
    },
    {
      "cell_type": "code",
      "source": [
        "resultados"
      ],
      "metadata": {
        "id": "7Un-NK4wpo8M",
        "colab": {
          "base_uri": "https://localhost:8080/",
          "height": 990
        },
        "outputId": "38b6b577-6d0d-4fe6-ea3f-37a9b3521bd8"
      },
      "execution_count": null,
      "outputs": [
        {
          "output_type": "execute_result",
          "data": {
            "text/plain": [
              "          DT        RF       KNN       SVM        NB\n",
              "0   0.856295  0.857334  0.860643  0.857358  0.858293\n",
              "1   0.840934  0.866042  0.857262  0.855112  0.865180\n",
              "2   0.848614  0.861706  0.864990  0.858421  0.859682\n",
              "3   0.847456  0.863760  0.861562  0.856128  0.862329\n",
              "4   0.856235  0.864943  0.860607  0.857310  0.860903\n",
              "5   0.849689  0.860559  0.862721  0.857298  0.865143\n",
              "6   0.847492  0.863796  0.860547  0.859460  0.860996\n",
              "7   0.856151  0.862709  0.861658  0.859472  0.860977\n",
              "8   0.856199  0.861622  0.862685  0.856187  0.860977\n",
              "9   0.850729  0.859508  0.860583  0.856247  0.862551\n",
              "10  0.853954  0.865946  0.863784  0.861574  0.859663\n",
              "11  0.855088  0.862709  0.862733  0.860547  0.856960\n",
              "12  0.847539  0.858409  0.860595  0.854013  0.861181\n",
              "13  0.855100  0.855196  0.860607  0.857334  0.862514\n",
              "14  0.836538  0.859484  0.859484  0.861646       NaN\n",
              "15  0.849725  0.857358  0.864967  0.855172  0.861070\n",
              "16  0.839859  0.855184  0.860619  0.857382  0.863736\n",
              "17  0.852974  0.861646  0.860595  0.854013  0.859608\n",
              "18  0.860595  0.861730  0.860595  0.858469  0.863865\n",
              "19  0.850764  0.861670  0.864919  0.856199  0.862569\n",
              "20  0.844219  0.859472  0.857274  0.856187  0.859608\n",
              "21  0.838772  0.859472  0.858361  0.857238  0.856923\n",
              "22  0.855065  0.863772  0.857226  0.858325  0.859571\n",
              "23  0.855136  0.866042  0.861670  0.863880  0.855609\n",
              "24  0.840970  0.860583  0.861634  0.859484  0.859645\n",
              "25  0.841018  0.856295  0.856247  0.860631  0.865087\n",
              "26  0.843168  0.860547  0.859472  0.857298  0.862273\n",
              "27  0.854121  0.860667  0.862840  0.858469  0.862495\n",
              "28  0.850824  0.863903  0.868227  0.860631  0.859793\n",
              "29  0.859556  0.861694  0.861682  0.860619  0.862384"
            ],
            "text/html": [
              "\n",
              "  <div id=\"df-bcd144fc-293c-4abb-986e-c8a769514b0e\">\n",
              "    <div class=\"colab-df-container\">\n",
              "      <div>\n",
              "<style scoped>\n",
              "    .dataframe tbody tr th:only-of-type {\n",
              "        vertical-align: middle;\n",
              "    }\n",
              "\n",
              "    .dataframe tbody tr th {\n",
              "        vertical-align: top;\n",
              "    }\n",
              "\n",
              "    .dataframe thead th {\n",
              "        text-align: right;\n",
              "    }\n",
              "</style>\n",
              "<table border=\"1\" class=\"dataframe\">\n",
              "  <thead>\n",
              "    <tr style=\"text-align: right;\">\n",
              "      <th></th>\n",
              "      <th>DT</th>\n",
              "      <th>RF</th>\n",
              "      <th>KNN</th>\n",
              "      <th>SVM</th>\n",
              "      <th>NB</th>\n",
              "    </tr>\n",
              "  </thead>\n",
              "  <tbody>\n",
              "    <tr>\n",
              "      <th>0</th>\n",
              "      <td>0.856295</td>\n",
              "      <td>0.857334</td>\n",
              "      <td>0.860643</td>\n",
              "      <td>0.857358</td>\n",
              "      <td>0.858293</td>\n",
              "    </tr>\n",
              "    <tr>\n",
              "      <th>1</th>\n",
              "      <td>0.840934</td>\n",
              "      <td>0.866042</td>\n",
              "      <td>0.857262</td>\n",
              "      <td>0.855112</td>\n",
              "      <td>0.865180</td>\n",
              "    </tr>\n",
              "    <tr>\n",
              "      <th>2</th>\n",
              "      <td>0.848614</td>\n",
              "      <td>0.861706</td>\n",
              "      <td>0.864990</td>\n",
              "      <td>0.858421</td>\n",
              "      <td>0.859682</td>\n",
              "    </tr>\n",
              "    <tr>\n",
              "      <th>3</th>\n",
              "      <td>0.847456</td>\n",
              "      <td>0.863760</td>\n",
              "      <td>0.861562</td>\n",
              "      <td>0.856128</td>\n",
              "      <td>0.862329</td>\n",
              "    </tr>\n",
              "    <tr>\n",
              "      <th>4</th>\n",
              "      <td>0.856235</td>\n",
              "      <td>0.864943</td>\n",
              "      <td>0.860607</td>\n",
              "      <td>0.857310</td>\n",
              "      <td>0.860903</td>\n",
              "    </tr>\n",
              "    <tr>\n",
              "      <th>5</th>\n",
              "      <td>0.849689</td>\n",
              "      <td>0.860559</td>\n",
              "      <td>0.862721</td>\n",
              "      <td>0.857298</td>\n",
              "      <td>0.865143</td>\n",
              "    </tr>\n",
              "    <tr>\n",
              "      <th>6</th>\n",
              "      <td>0.847492</td>\n",
              "      <td>0.863796</td>\n",
              "      <td>0.860547</td>\n",
              "      <td>0.859460</td>\n",
              "      <td>0.860996</td>\n",
              "    </tr>\n",
              "    <tr>\n",
              "      <th>7</th>\n",
              "      <td>0.856151</td>\n",
              "      <td>0.862709</td>\n",
              "      <td>0.861658</td>\n",
              "      <td>0.859472</td>\n",
              "      <td>0.860977</td>\n",
              "    </tr>\n",
              "    <tr>\n",
              "      <th>8</th>\n",
              "      <td>0.856199</td>\n",
              "      <td>0.861622</td>\n",
              "      <td>0.862685</td>\n",
              "      <td>0.856187</td>\n",
              "      <td>0.860977</td>\n",
              "    </tr>\n",
              "    <tr>\n",
              "      <th>9</th>\n",
              "      <td>0.850729</td>\n",
              "      <td>0.859508</td>\n",
              "      <td>0.860583</td>\n",
              "      <td>0.856247</td>\n",
              "      <td>0.862551</td>\n",
              "    </tr>\n",
              "    <tr>\n",
              "      <th>10</th>\n",
              "      <td>0.853954</td>\n",
              "      <td>0.865946</td>\n",
              "      <td>0.863784</td>\n",
              "      <td>0.861574</td>\n",
              "      <td>0.859663</td>\n",
              "    </tr>\n",
              "    <tr>\n",
              "      <th>11</th>\n",
              "      <td>0.855088</td>\n",
              "      <td>0.862709</td>\n",
              "      <td>0.862733</td>\n",
              "      <td>0.860547</td>\n",
              "      <td>0.856960</td>\n",
              "    </tr>\n",
              "    <tr>\n",
              "      <th>12</th>\n",
              "      <td>0.847539</td>\n",
              "      <td>0.858409</td>\n",
              "      <td>0.860595</td>\n",
              "      <td>0.854013</td>\n",
              "      <td>0.861181</td>\n",
              "    </tr>\n",
              "    <tr>\n",
              "      <th>13</th>\n",
              "      <td>0.855100</td>\n",
              "      <td>0.855196</td>\n",
              "      <td>0.860607</td>\n",
              "      <td>0.857334</td>\n",
              "      <td>0.862514</td>\n",
              "    </tr>\n",
              "    <tr>\n",
              "      <th>14</th>\n",
              "      <td>0.836538</td>\n",
              "      <td>0.859484</td>\n",
              "      <td>0.859484</td>\n",
              "      <td>0.861646</td>\n",
              "      <td>NaN</td>\n",
              "    </tr>\n",
              "    <tr>\n",
              "      <th>15</th>\n",
              "      <td>0.849725</td>\n",
              "      <td>0.857358</td>\n",
              "      <td>0.864967</td>\n",
              "      <td>0.855172</td>\n",
              "      <td>0.861070</td>\n",
              "    </tr>\n",
              "    <tr>\n",
              "      <th>16</th>\n",
              "      <td>0.839859</td>\n",
              "      <td>0.855184</td>\n",
              "      <td>0.860619</td>\n",
              "      <td>0.857382</td>\n",
              "      <td>0.863736</td>\n",
              "    </tr>\n",
              "    <tr>\n",
              "      <th>17</th>\n",
              "      <td>0.852974</td>\n",
              "      <td>0.861646</td>\n",
              "      <td>0.860595</td>\n",
              "      <td>0.854013</td>\n",
              "      <td>0.859608</td>\n",
              "    </tr>\n",
              "    <tr>\n",
              "      <th>18</th>\n",
              "      <td>0.860595</td>\n",
              "      <td>0.861730</td>\n",
              "      <td>0.860595</td>\n",
              "      <td>0.858469</td>\n",
              "      <td>0.863865</td>\n",
              "    </tr>\n",
              "    <tr>\n",
              "      <th>19</th>\n",
              "      <td>0.850764</td>\n",
              "      <td>0.861670</td>\n",
              "      <td>0.864919</td>\n",
              "      <td>0.856199</td>\n",
              "      <td>0.862569</td>\n",
              "    </tr>\n",
              "    <tr>\n",
              "      <th>20</th>\n",
              "      <td>0.844219</td>\n",
              "      <td>0.859472</td>\n",
              "      <td>0.857274</td>\n",
              "      <td>0.856187</td>\n",
              "      <td>0.859608</td>\n",
              "    </tr>\n",
              "    <tr>\n",
              "      <th>21</th>\n",
              "      <td>0.838772</td>\n",
              "      <td>0.859472</td>\n",
              "      <td>0.858361</td>\n",
              "      <td>0.857238</td>\n",
              "      <td>0.856923</td>\n",
              "    </tr>\n",
              "    <tr>\n",
              "      <th>22</th>\n",
              "      <td>0.855065</td>\n",
              "      <td>0.863772</td>\n",
              "      <td>0.857226</td>\n",
              "      <td>0.858325</td>\n",
              "      <td>0.859571</td>\n",
              "    </tr>\n",
              "    <tr>\n",
              "      <th>23</th>\n",
              "      <td>0.855136</td>\n",
              "      <td>0.866042</td>\n",
              "      <td>0.861670</td>\n",
              "      <td>0.863880</td>\n",
              "      <td>0.855609</td>\n",
              "    </tr>\n",
              "    <tr>\n",
              "      <th>24</th>\n",
              "      <td>0.840970</td>\n",
              "      <td>0.860583</td>\n",
              "      <td>0.861634</td>\n",
              "      <td>0.859484</td>\n",
              "      <td>0.859645</td>\n",
              "    </tr>\n",
              "    <tr>\n",
              "      <th>25</th>\n",
              "      <td>0.841018</td>\n",
              "      <td>0.856295</td>\n",
              "      <td>0.856247</td>\n",
              "      <td>0.860631</td>\n",
              "      <td>0.865087</td>\n",
              "    </tr>\n",
              "    <tr>\n",
              "      <th>26</th>\n",
              "      <td>0.843168</td>\n",
              "      <td>0.860547</td>\n",
              "      <td>0.859472</td>\n",
              "      <td>0.857298</td>\n",
              "      <td>0.862273</td>\n",
              "    </tr>\n",
              "    <tr>\n",
              "      <th>27</th>\n",
              "      <td>0.854121</td>\n",
              "      <td>0.860667</td>\n",
              "      <td>0.862840</td>\n",
              "      <td>0.858469</td>\n",
              "      <td>0.862495</td>\n",
              "    </tr>\n",
              "    <tr>\n",
              "      <th>28</th>\n",
              "      <td>0.850824</td>\n",
              "      <td>0.863903</td>\n",
              "      <td>0.868227</td>\n",
              "      <td>0.860631</td>\n",
              "      <td>0.859793</td>\n",
              "    </tr>\n",
              "    <tr>\n",
              "      <th>29</th>\n",
              "      <td>0.859556</td>\n",
              "      <td>0.861694</td>\n",
              "      <td>0.861682</td>\n",
              "      <td>0.860619</td>\n",
              "      <td>0.862384</td>\n",
              "    </tr>\n",
              "  </tbody>\n",
              "</table>\n",
              "</div>\n",
              "      <button class=\"colab-df-convert\" onclick=\"convertToInteractive('df-bcd144fc-293c-4abb-986e-c8a769514b0e')\"\n",
              "              title=\"Convert this dataframe to an interactive table.\"\n",
              "              style=\"display:none;\">\n",
              "        \n",
              "  <svg xmlns=\"http://www.w3.org/2000/svg\" height=\"24px\"viewBox=\"0 0 24 24\"\n",
              "       width=\"24px\">\n",
              "    <path d=\"M0 0h24v24H0V0z\" fill=\"none\"/>\n",
              "    <path d=\"M18.56 5.44l.94 2.06.94-2.06 2.06-.94-2.06-.94-.94-2.06-.94 2.06-2.06.94zm-11 1L8.5 8.5l.94-2.06 2.06-.94-2.06-.94L8.5 2.5l-.94 2.06-2.06.94zm10 10l.94 2.06.94-2.06 2.06-.94-2.06-.94-.94-2.06-.94 2.06-2.06.94z\"/><path d=\"M17.41 7.96l-1.37-1.37c-.4-.4-.92-.59-1.43-.59-.52 0-1.04.2-1.43.59L10.3 9.45l-7.72 7.72c-.78.78-.78 2.05 0 2.83L4 21.41c.39.39.9.59 1.41.59.51 0 1.02-.2 1.41-.59l7.78-7.78 2.81-2.81c.8-.78.8-2.07 0-2.86zM5.41 20L4 18.59l7.72-7.72 1.47 1.35L5.41 20z\"/>\n",
              "  </svg>\n",
              "      </button>\n",
              "      \n",
              "  <style>\n",
              "    .colab-df-container {\n",
              "      display:flex;\n",
              "      flex-wrap:wrap;\n",
              "      gap: 12px;\n",
              "    }\n",
              "\n",
              "    .colab-df-convert {\n",
              "      background-color: #E8F0FE;\n",
              "      border: none;\n",
              "      border-radius: 50%;\n",
              "      cursor: pointer;\n",
              "      display: none;\n",
              "      fill: #1967D2;\n",
              "      height: 32px;\n",
              "      padding: 0 0 0 0;\n",
              "      width: 32px;\n",
              "    }\n",
              "\n",
              "    .colab-df-convert:hover {\n",
              "      background-color: #E2EBFA;\n",
              "      box-shadow: 0px 1px 2px rgba(60, 64, 67, 0.3), 0px 1px 3px 1px rgba(60, 64, 67, 0.15);\n",
              "      fill: #174EA6;\n",
              "    }\n",
              "\n",
              "    [theme=dark] .colab-df-convert {\n",
              "      background-color: #3B4455;\n",
              "      fill: #D2E3FC;\n",
              "    }\n",
              "\n",
              "    [theme=dark] .colab-df-convert:hover {\n",
              "      background-color: #434B5C;\n",
              "      box-shadow: 0px 1px 3px 1px rgba(0, 0, 0, 0.15);\n",
              "      filter: drop-shadow(0px 1px 2px rgba(0, 0, 0, 0.3));\n",
              "      fill: #FFFFFF;\n",
              "    }\n",
              "  </style>\n",
              "\n",
              "      <script>\n",
              "        const buttonEl =\n",
              "          document.querySelector('#df-bcd144fc-293c-4abb-986e-c8a769514b0e button.colab-df-convert');\n",
              "        buttonEl.style.display =\n",
              "          google.colab.kernel.accessAllowed ? 'block' : 'none';\n",
              "\n",
              "        async function convertToInteractive(key) {\n",
              "          const element = document.querySelector('#df-bcd144fc-293c-4abb-986e-c8a769514b0e');\n",
              "          const dataTable =\n",
              "            await google.colab.kernel.invokeFunction('convertToInteractive',\n",
              "                                                     [key], {});\n",
              "          if (!dataTable) return;\n",
              "\n",
              "          const docLinkHtml = 'Like what you see? Visit the ' +\n",
              "            '<a target=\"_blank\" href=https://colab.research.google.com/notebooks/data_table.ipynb>data table notebook</a>'\n",
              "            + ' to learn more about interactive tables.';\n",
              "          element.innerHTML = '';\n",
              "          dataTable['output_type'] = 'display_data';\n",
              "          await google.colab.output.renderOutput(dataTable, element);\n",
              "          const docLink = document.createElement('div');\n",
              "          docLink.innerHTML = docLinkHtml;\n",
              "          element.appendChild(docLink);\n",
              "        }\n",
              "      </script>\n",
              "    </div>\n",
              "  </div>\n",
              "  "
            ]
          },
          "metadata": {},
          "execution_count": 153
        }
      ]
    },
    {
      "cell_type": "code",
      "source": [
        "resultados.describe()"
      ],
      "metadata": {
        "id": "C9I3sAFCpyvW",
        "colab": {
          "base_uri": "https://localhost:8080/",
          "height": 300
        },
        "outputId": "8a735fe7-f0cd-40ab-f033-57c565e6dcbc"
      },
      "execution_count": null,
      "outputs": [
        {
          "output_type": "execute_result",
          "data": {
            "text/plain": [
              "              DT         RF        KNN        SVM         NB\n",
              "count  30.000000  30.000000  30.000000  30.000000  29.000000\n",
              "mean    0.849826   0.861125   0.861226   0.858070   0.861089\n",
              "std     0.006592   0.003014   0.002609   0.002369   0.002417\n",
              "min     0.836538   0.855184   0.856247   0.854013   0.855609\n",
              "25%     0.845028   0.859475   0.860556   0.856211   0.859645\n",
              "50%     0.850747   0.861634   0.860631   0.857370   0.860996\n",
              "75%     0.855097   0.863497   0.862712   0.859481   0.862514\n",
              "max     0.860595   0.866042   0.868227   0.863880   0.865180"
            ],
            "text/html": [
              "\n",
              "  <div id=\"df-4b25e001-4e7f-4378-a5fc-1fbd00fe1ab2\">\n",
              "    <div class=\"colab-df-container\">\n",
              "      <div>\n",
              "<style scoped>\n",
              "    .dataframe tbody tr th:only-of-type {\n",
              "        vertical-align: middle;\n",
              "    }\n",
              "\n",
              "    .dataframe tbody tr th {\n",
              "        vertical-align: top;\n",
              "    }\n",
              "\n",
              "    .dataframe thead th {\n",
              "        text-align: right;\n",
              "    }\n",
              "</style>\n",
              "<table border=\"1\" class=\"dataframe\">\n",
              "  <thead>\n",
              "    <tr style=\"text-align: right;\">\n",
              "      <th></th>\n",
              "      <th>DT</th>\n",
              "      <th>RF</th>\n",
              "      <th>KNN</th>\n",
              "      <th>SVM</th>\n",
              "      <th>NB</th>\n",
              "    </tr>\n",
              "  </thead>\n",
              "  <tbody>\n",
              "    <tr>\n",
              "      <th>count</th>\n",
              "      <td>30.000000</td>\n",
              "      <td>30.000000</td>\n",
              "      <td>30.000000</td>\n",
              "      <td>30.000000</td>\n",
              "      <td>29.000000</td>\n",
              "    </tr>\n",
              "    <tr>\n",
              "      <th>mean</th>\n",
              "      <td>0.849826</td>\n",
              "      <td>0.861125</td>\n",
              "      <td>0.861226</td>\n",
              "      <td>0.858070</td>\n",
              "      <td>0.861089</td>\n",
              "    </tr>\n",
              "    <tr>\n",
              "      <th>std</th>\n",
              "      <td>0.006592</td>\n",
              "      <td>0.003014</td>\n",
              "      <td>0.002609</td>\n",
              "      <td>0.002369</td>\n",
              "      <td>0.002417</td>\n",
              "    </tr>\n",
              "    <tr>\n",
              "      <th>min</th>\n",
              "      <td>0.836538</td>\n",
              "      <td>0.855184</td>\n",
              "      <td>0.856247</td>\n",
              "      <td>0.854013</td>\n",
              "      <td>0.855609</td>\n",
              "    </tr>\n",
              "    <tr>\n",
              "      <th>25%</th>\n",
              "      <td>0.845028</td>\n",
              "      <td>0.859475</td>\n",
              "      <td>0.860556</td>\n",
              "      <td>0.856211</td>\n",
              "      <td>0.859645</td>\n",
              "    </tr>\n",
              "    <tr>\n",
              "      <th>50%</th>\n",
              "      <td>0.850747</td>\n",
              "      <td>0.861634</td>\n",
              "      <td>0.860631</td>\n",
              "      <td>0.857370</td>\n",
              "      <td>0.860996</td>\n",
              "    </tr>\n",
              "    <tr>\n",
              "      <th>75%</th>\n",
              "      <td>0.855097</td>\n",
              "      <td>0.863497</td>\n",
              "      <td>0.862712</td>\n",
              "      <td>0.859481</td>\n",
              "      <td>0.862514</td>\n",
              "    </tr>\n",
              "    <tr>\n",
              "      <th>max</th>\n",
              "      <td>0.860595</td>\n",
              "      <td>0.866042</td>\n",
              "      <td>0.868227</td>\n",
              "      <td>0.863880</td>\n",
              "      <td>0.865180</td>\n",
              "    </tr>\n",
              "  </tbody>\n",
              "</table>\n",
              "</div>\n",
              "      <button class=\"colab-df-convert\" onclick=\"convertToInteractive('df-4b25e001-4e7f-4378-a5fc-1fbd00fe1ab2')\"\n",
              "              title=\"Convert this dataframe to an interactive table.\"\n",
              "              style=\"display:none;\">\n",
              "        \n",
              "  <svg xmlns=\"http://www.w3.org/2000/svg\" height=\"24px\"viewBox=\"0 0 24 24\"\n",
              "       width=\"24px\">\n",
              "    <path d=\"M0 0h24v24H0V0z\" fill=\"none\"/>\n",
              "    <path d=\"M18.56 5.44l.94 2.06.94-2.06 2.06-.94-2.06-.94-.94-2.06-.94 2.06-2.06.94zm-11 1L8.5 8.5l.94-2.06 2.06-.94-2.06-.94L8.5 2.5l-.94 2.06-2.06.94zm10 10l.94 2.06.94-2.06 2.06-.94-2.06-.94-.94-2.06-.94 2.06-2.06.94z\"/><path d=\"M17.41 7.96l-1.37-1.37c-.4-.4-.92-.59-1.43-.59-.52 0-1.04.2-1.43.59L10.3 9.45l-7.72 7.72c-.78.78-.78 2.05 0 2.83L4 21.41c.39.39.9.59 1.41.59.51 0 1.02-.2 1.41-.59l7.78-7.78 2.81-2.81c.8-.78.8-2.07 0-2.86zM5.41 20L4 18.59l7.72-7.72 1.47 1.35L5.41 20z\"/>\n",
              "  </svg>\n",
              "      </button>\n",
              "      \n",
              "  <style>\n",
              "    .colab-df-container {\n",
              "      display:flex;\n",
              "      flex-wrap:wrap;\n",
              "      gap: 12px;\n",
              "    }\n",
              "\n",
              "    .colab-df-convert {\n",
              "      background-color: #E8F0FE;\n",
              "      border: none;\n",
              "      border-radius: 50%;\n",
              "      cursor: pointer;\n",
              "      display: none;\n",
              "      fill: #1967D2;\n",
              "      height: 32px;\n",
              "      padding: 0 0 0 0;\n",
              "      width: 32px;\n",
              "    }\n",
              "\n",
              "    .colab-df-convert:hover {\n",
              "      background-color: #E2EBFA;\n",
              "      box-shadow: 0px 1px 2px rgba(60, 64, 67, 0.3), 0px 1px 3px 1px rgba(60, 64, 67, 0.15);\n",
              "      fill: #174EA6;\n",
              "    }\n",
              "\n",
              "    [theme=dark] .colab-df-convert {\n",
              "      background-color: #3B4455;\n",
              "      fill: #D2E3FC;\n",
              "    }\n",
              "\n",
              "    [theme=dark] .colab-df-convert:hover {\n",
              "      background-color: #434B5C;\n",
              "      box-shadow: 0px 1px 3px 1px rgba(0, 0, 0, 0.15);\n",
              "      filter: drop-shadow(0px 1px 2px rgba(0, 0, 0, 0.3));\n",
              "      fill: #FFFFFF;\n",
              "    }\n",
              "  </style>\n",
              "\n",
              "      <script>\n",
              "        const buttonEl =\n",
              "          document.querySelector('#df-4b25e001-4e7f-4378-a5fc-1fbd00fe1ab2 button.colab-df-convert');\n",
              "        buttonEl.style.display =\n",
              "          google.colab.kernel.accessAllowed ? 'block' : 'none';\n",
              "\n",
              "        async function convertToInteractive(key) {\n",
              "          const element = document.querySelector('#df-4b25e001-4e7f-4378-a5fc-1fbd00fe1ab2');\n",
              "          const dataTable =\n",
              "            await google.colab.kernel.invokeFunction('convertToInteractive',\n",
              "                                                     [key], {});\n",
              "          if (!dataTable) return;\n",
              "\n",
              "          const docLinkHtml = 'Like what you see? Visit the ' +\n",
              "            '<a target=\"_blank\" href=https://colab.research.google.com/notebooks/data_table.ipynb>data table notebook</a>'\n",
              "            + ' to learn more about interactive tables.';\n",
              "          element.innerHTML = '';\n",
              "          dataTable['output_type'] = 'display_data';\n",
              "          await google.colab.output.renderOutput(dataTable, element);\n",
              "          const docLink = document.createElement('div');\n",
              "          docLink.innerHTML = docLinkHtml;\n",
              "          element.appendChild(docLink);\n",
              "        }\n",
              "      </script>\n",
              "    </div>\n",
              "  </div>\n",
              "  "
            ]
          },
          "metadata": {},
          "execution_count": 154
        }
      ]
    },
    {
      "cell_type": "code",
      "source": [
        "#Coeficiente de Variação - CV / Mede a homogeniedade ou heterogeniedade do resultado dos testes\n",
        "#For menor ou igual a 15% → baixa dispersão: dados homogêneos\n",
        "#For entre 15 e 30% → média dispersão\n",
        "#For maior que 30% → alta dispersão: dados heterogêneos\n",
        "\n",
        "(resultados.std() / resultados.mean()) * 100"
      ],
      "metadata": {
        "id": "KhSkANibqB8k",
        "colab": {
          "base_uri": "https://localhost:8080/"
        },
        "outputId": "6d86ac04-8283-4b7a-fddb-ee526b0b786f"
      },
      "execution_count": null,
      "outputs": [
        {
          "output_type": "execute_result",
          "data": {
            "text/plain": [
              "DT     0.775682\n",
              "RF     0.350032\n",
              "KNN    0.302981\n",
              "SVM    0.276037\n",
              "NB     0.280724\n",
              "dtype: float64"
            ]
          },
          "metadata": {},
          "execution_count": 155
        }
      ]
    },
    {
      "cell_type": "code",
      "source": [
        "from scipy.stats import shapiro"
      ],
      "metadata": {
        "id": "L0m2dmtOqHCP"
      },
      "execution_count": null,
      "outputs": []
    },
    {
      "cell_type": "code",
      "source": [
        "F1 = pd.DataFrame({'DT':(resultadosf1_DT), 'RF':(resultadosf1_RF), 'KNN':(resultadosf1_KNN),\n",
        "'SVM':(resultadosf1_SVM), 'NB':(resultadosf1_NB)}) #\"\"\", 'MLP':(resultadosf1_MLP), 'XG':(resultadosf1_XG)\"\"\""
      ],
      "metadata": {
        "id": "XZXiFuW8GSjC"
      },
      "execution_count": null,
      "outputs": []
    },
    {
      "cell_type": "code",
      "source": [
        "F1"
      ],
      "metadata": {
        "colab": {
          "base_uri": "https://localhost:8080/",
          "height": 990
        },
        "id": "-nVkbF57IP7A",
        "outputId": "699815af-052d-4f09-d163-d4943d2a4d7e"
      },
      "execution_count": null,
      "outputs": [
        {
          "output_type": "execute_result",
          "data": {
            "text/plain": [
              "          DT        RF       KNN       SVM        NB\n",
              "0   0.873527  0.875974  0.877391  0.874367  0.869050\n",
              "1   0.858116  0.881537  0.872237  0.871973  0.875314\n",
              "2   0.867522  0.878394  0.880199  0.874934  0.871742\n",
              "3   0.863480  0.877990  0.873816  0.870012  0.873891\n",
              "4   0.871534  0.879663  0.874410  0.872372  0.865431\n",
              "5   0.868159  0.878249  0.878187  0.875286  0.873580\n",
              "6   0.864567  0.878603  0.875265  0.874649  0.872061\n",
              "7   0.871118  0.879463  0.876084  0.875900  0.871096\n",
              "8   0.872577  0.877830  0.878255  0.872612  0.871088\n",
              "9   0.868283  0.876156  0.875178  0.873335  0.872812\n",
              "10  0.870053  0.882122  0.878728  0.877355  0.867255\n",
              "11  0.873579  0.880221  0.878148  0.876895  0.866957\n",
              "12  0.864408  0.873983  0.875069  0.869329  0.871797\n",
              "13  0.871579  0.872514  0.876228  0.874576  0.871202\n",
              "14  0.854589  0.876934  0.875572  0.877074       NaN\n",
              "15  0.864801  0.872861  0.876715  0.869494  0.871131\n",
              "16  0.859860  0.872274  0.876169  0.874315  0.874404\n",
              "17  0.871705  0.879622  0.877145  0.872352  0.871692\n",
              "18  0.876878  0.876706  0.874127  0.872796  0.872237\n",
              "19  0.867934  0.879450  0.880471  0.873558  0.874180\n",
              "20  0.861749  0.875258  0.871709  0.871344  0.869118\n",
              "21  0.854083  0.875047  0.872650  0.871736  0.869527\n",
              "22  0.873997  0.881990  0.875913  0.876926  0.870527\n",
              "23  0.872407  0.882565  0.877565  0.879908  0.864518\n",
              "24  0.854066  0.876011  0.875760  0.873456  0.871826\n",
              "25  0.857629  0.871650  0.869871  0.875333  0.876202\n",
              "26  0.864043  0.877377  0.875256  0.873303  0.874858\n",
              "27  0.868735  0.875965  0.876406  0.873277  0.872480\n",
              "28  0.866858  0.879351  0.882299  0.874984  0.867808\n",
              "29  0.875459  0.877394  0.876027  0.875326  0.872578"
            ],
            "text/html": [
              "\n",
              "  <div id=\"df-d347dc85-12ce-4dca-8411-11d2e04821f4\">\n",
              "    <div class=\"colab-df-container\">\n",
              "      <div>\n",
              "<style scoped>\n",
              "    .dataframe tbody tr th:only-of-type {\n",
              "        vertical-align: middle;\n",
              "    }\n",
              "\n",
              "    .dataframe tbody tr th {\n",
              "        vertical-align: top;\n",
              "    }\n",
              "\n",
              "    .dataframe thead th {\n",
              "        text-align: right;\n",
              "    }\n",
              "</style>\n",
              "<table border=\"1\" class=\"dataframe\">\n",
              "  <thead>\n",
              "    <tr style=\"text-align: right;\">\n",
              "      <th></th>\n",
              "      <th>DT</th>\n",
              "      <th>RF</th>\n",
              "      <th>KNN</th>\n",
              "      <th>SVM</th>\n",
              "      <th>NB</th>\n",
              "    </tr>\n",
              "  </thead>\n",
              "  <tbody>\n",
              "    <tr>\n",
              "      <th>0</th>\n",
              "      <td>0.873527</td>\n",
              "      <td>0.875974</td>\n",
              "      <td>0.877391</td>\n",
              "      <td>0.874367</td>\n",
              "      <td>0.869050</td>\n",
              "    </tr>\n",
              "    <tr>\n",
              "      <th>1</th>\n",
              "      <td>0.858116</td>\n",
              "      <td>0.881537</td>\n",
              "      <td>0.872237</td>\n",
              "      <td>0.871973</td>\n",
              "      <td>0.875314</td>\n",
              "    </tr>\n",
              "    <tr>\n",
              "      <th>2</th>\n",
              "      <td>0.867522</td>\n",
              "      <td>0.878394</td>\n",
              "      <td>0.880199</td>\n",
              "      <td>0.874934</td>\n",
              "      <td>0.871742</td>\n",
              "    </tr>\n",
              "    <tr>\n",
              "      <th>3</th>\n",
              "      <td>0.863480</td>\n",
              "      <td>0.877990</td>\n",
              "      <td>0.873816</td>\n",
              "      <td>0.870012</td>\n",
              "      <td>0.873891</td>\n",
              "    </tr>\n",
              "    <tr>\n",
              "      <th>4</th>\n",
              "      <td>0.871534</td>\n",
              "      <td>0.879663</td>\n",
              "      <td>0.874410</td>\n",
              "      <td>0.872372</td>\n",
              "      <td>0.865431</td>\n",
              "    </tr>\n",
              "    <tr>\n",
              "      <th>5</th>\n",
              "      <td>0.868159</td>\n",
              "      <td>0.878249</td>\n",
              "      <td>0.878187</td>\n",
              "      <td>0.875286</td>\n",
              "      <td>0.873580</td>\n",
              "    </tr>\n",
              "    <tr>\n",
              "      <th>6</th>\n",
              "      <td>0.864567</td>\n",
              "      <td>0.878603</td>\n",
              "      <td>0.875265</td>\n",
              "      <td>0.874649</td>\n",
              "      <td>0.872061</td>\n",
              "    </tr>\n",
              "    <tr>\n",
              "      <th>7</th>\n",
              "      <td>0.871118</td>\n",
              "      <td>0.879463</td>\n",
              "      <td>0.876084</td>\n",
              "      <td>0.875900</td>\n",
              "      <td>0.871096</td>\n",
              "    </tr>\n",
              "    <tr>\n",
              "      <th>8</th>\n",
              "      <td>0.872577</td>\n",
              "      <td>0.877830</td>\n",
              "      <td>0.878255</td>\n",
              "      <td>0.872612</td>\n",
              "      <td>0.871088</td>\n",
              "    </tr>\n",
              "    <tr>\n",
              "      <th>9</th>\n",
              "      <td>0.868283</td>\n",
              "      <td>0.876156</td>\n",
              "      <td>0.875178</td>\n",
              "      <td>0.873335</td>\n",
              "      <td>0.872812</td>\n",
              "    </tr>\n",
              "    <tr>\n",
              "      <th>10</th>\n",
              "      <td>0.870053</td>\n",
              "      <td>0.882122</td>\n",
              "      <td>0.878728</td>\n",
              "      <td>0.877355</td>\n",
              "      <td>0.867255</td>\n",
              "    </tr>\n",
              "    <tr>\n",
              "      <th>11</th>\n",
              "      <td>0.873579</td>\n",
              "      <td>0.880221</td>\n",
              "      <td>0.878148</td>\n",
              "      <td>0.876895</td>\n",
              "      <td>0.866957</td>\n",
              "    </tr>\n",
              "    <tr>\n",
              "      <th>12</th>\n",
              "      <td>0.864408</td>\n",
              "      <td>0.873983</td>\n",
              "      <td>0.875069</td>\n",
              "      <td>0.869329</td>\n",
              "      <td>0.871797</td>\n",
              "    </tr>\n",
              "    <tr>\n",
              "      <th>13</th>\n",
              "      <td>0.871579</td>\n",
              "      <td>0.872514</td>\n",
              "      <td>0.876228</td>\n",
              "      <td>0.874576</td>\n",
              "      <td>0.871202</td>\n",
              "    </tr>\n",
              "    <tr>\n",
              "      <th>14</th>\n",
              "      <td>0.854589</td>\n",
              "      <td>0.876934</td>\n",
              "      <td>0.875572</td>\n",
              "      <td>0.877074</td>\n",
              "      <td>NaN</td>\n",
              "    </tr>\n",
              "    <tr>\n",
              "      <th>15</th>\n",
              "      <td>0.864801</td>\n",
              "      <td>0.872861</td>\n",
              "      <td>0.876715</td>\n",
              "      <td>0.869494</td>\n",
              "      <td>0.871131</td>\n",
              "    </tr>\n",
              "    <tr>\n",
              "      <th>16</th>\n",
              "      <td>0.859860</td>\n",
              "      <td>0.872274</td>\n",
              "      <td>0.876169</td>\n",
              "      <td>0.874315</td>\n",
              "      <td>0.874404</td>\n",
              "    </tr>\n",
              "    <tr>\n",
              "      <th>17</th>\n",
              "      <td>0.871705</td>\n",
              "      <td>0.879622</td>\n",
              "      <td>0.877145</td>\n",
              "      <td>0.872352</td>\n",
              "      <td>0.871692</td>\n",
              "    </tr>\n",
              "    <tr>\n",
              "      <th>18</th>\n",
              "      <td>0.876878</td>\n",
              "      <td>0.876706</td>\n",
              "      <td>0.874127</td>\n",
              "      <td>0.872796</td>\n",
              "      <td>0.872237</td>\n",
              "    </tr>\n",
              "    <tr>\n",
              "      <th>19</th>\n",
              "      <td>0.867934</td>\n",
              "      <td>0.879450</td>\n",
              "      <td>0.880471</td>\n",
              "      <td>0.873558</td>\n",
              "      <td>0.874180</td>\n",
              "    </tr>\n",
              "    <tr>\n",
              "      <th>20</th>\n",
              "      <td>0.861749</td>\n",
              "      <td>0.875258</td>\n",
              "      <td>0.871709</td>\n",
              "      <td>0.871344</td>\n",
              "      <td>0.869118</td>\n",
              "    </tr>\n",
              "    <tr>\n",
              "      <th>21</th>\n",
              "      <td>0.854083</td>\n",
              "      <td>0.875047</td>\n",
              "      <td>0.872650</td>\n",
              "      <td>0.871736</td>\n",
              "      <td>0.869527</td>\n",
              "    </tr>\n",
              "    <tr>\n",
              "      <th>22</th>\n",
              "      <td>0.873997</td>\n",
              "      <td>0.881990</td>\n",
              "      <td>0.875913</td>\n",
              "      <td>0.876926</td>\n",
              "      <td>0.870527</td>\n",
              "    </tr>\n",
              "    <tr>\n",
              "      <th>23</th>\n",
              "      <td>0.872407</td>\n",
              "      <td>0.882565</td>\n",
              "      <td>0.877565</td>\n",
              "      <td>0.879908</td>\n",
              "      <td>0.864518</td>\n",
              "    </tr>\n",
              "    <tr>\n",
              "      <th>24</th>\n",
              "      <td>0.854066</td>\n",
              "      <td>0.876011</td>\n",
              "      <td>0.875760</td>\n",
              "      <td>0.873456</td>\n",
              "      <td>0.871826</td>\n",
              "    </tr>\n",
              "    <tr>\n",
              "      <th>25</th>\n",
              "      <td>0.857629</td>\n",
              "      <td>0.871650</td>\n",
              "      <td>0.869871</td>\n",
              "      <td>0.875333</td>\n",
              "      <td>0.876202</td>\n",
              "    </tr>\n",
              "    <tr>\n",
              "      <th>26</th>\n",
              "      <td>0.864043</td>\n",
              "      <td>0.877377</td>\n",
              "      <td>0.875256</td>\n",
              "      <td>0.873303</td>\n",
              "      <td>0.874858</td>\n",
              "    </tr>\n",
              "    <tr>\n",
              "      <th>27</th>\n",
              "      <td>0.868735</td>\n",
              "      <td>0.875965</td>\n",
              "      <td>0.876406</td>\n",
              "      <td>0.873277</td>\n",
              "      <td>0.872480</td>\n",
              "    </tr>\n",
              "    <tr>\n",
              "      <th>28</th>\n",
              "      <td>0.866858</td>\n",
              "      <td>0.879351</td>\n",
              "      <td>0.882299</td>\n",
              "      <td>0.874984</td>\n",
              "      <td>0.867808</td>\n",
              "    </tr>\n",
              "    <tr>\n",
              "      <th>29</th>\n",
              "      <td>0.875459</td>\n",
              "      <td>0.877394</td>\n",
              "      <td>0.876027</td>\n",
              "      <td>0.875326</td>\n",
              "      <td>0.872578</td>\n",
              "    </tr>\n",
              "  </tbody>\n",
              "</table>\n",
              "</div>\n",
              "      <button class=\"colab-df-convert\" onclick=\"convertToInteractive('df-d347dc85-12ce-4dca-8411-11d2e04821f4')\"\n",
              "              title=\"Convert this dataframe to an interactive table.\"\n",
              "              style=\"display:none;\">\n",
              "        \n",
              "  <svg xmlns=\"http://www.w3.org/2000/svg\" height=\"24px\"viewBox=\"0 0 24 24\"\n",
              "       width=\"24px\">\n",
              "    <path d=\"M0 0h24v24H0V0z\" fill=\"none\"/>\n",
              "    <path d=\"M18.56 5.44l.94 2.06.94-2.06 2.06-.94-2.06-.94-.94-2.06-.94 2.06-2.06.94zm-11 1L8.5 8.5l.94-2.06 2.06-.94-2.06-.94L8.5 2.5l-.94 2.06-2.06.94zm10 10l.94 2.06.94-2.06 2.06-.94-2.06-.94-.94-2.06-.94 2.06-2.06.94z\"/><path d=\"M17.41 7.96l-1.37-1.37c-.4-.4-.92-.59-1.43-.59-.52 0-1.04.2-1.43.59L10.3 9.45l-7.72 7.72c-.78.78-.78 2.05 0 2.83L4 21.41c.39.39.9.59 1.41.59.51 0 1.02-.2 1.41-.59l7.78-7.78 2.81-2.81c.8-.78.8-2.07 0-2.86zM5.41 20L4 18.59l7.72-7.72 1.47 1.35L5.41 20z\"/>\n",
              "  </svg>\n",
              "      </button>\n",
              "      \n",
              "  <style>\n",
              "    .colab-df-container {\n",
              "      display:flex;\n",
              "      flex-wrap:wrap;\n",
              "      gap: 12px;\n",
              "    }\n",
              "\n",
              "    .colab-df-convert {\n",
              "      background-color: #E8F0FE;\n",
              "      border: none;\n",
              "      border-radius: 50%;\n",
              "      cursor: pointer;\n",
              "      display: none;\n",
              "      fill: #1967D2;\n",
              "      height: 32px;\n",
              "      padding: 0 0 0 0;\n",
              "      width: 32px;\n",
              "    }\n",
              "\n",
              "    .colab-df-convert:hover {\n",
              "      background-color: #E2EBFA;\n",
              "      box-shadow: 0px 1px 2px rgba(60, 64, 67, 0.3), 0px 1px 3px 1px rgba(60, 64, 67, 0.15);\n",
              "      fill: #174EA6;\n",
              "    }\n",
              "\n",
              "    [theme=dark] .colab-df-convert {\n",
              "      background-color: #3B4455;\n",
              "      fill: #D2E3FC;\n",
              "    }\n",
              "\n",
              "    [theme=dark] .colab-df-convert:hover {\n",
              "      background-color: #434B5C;\n",
              "      box-shadow: 0px 1px 3px 1px rgba(0, 0, 0, 0.15);\n",
              "      filter: drop-shadow(0px 1px 2px rgba(0, 0, 0, 0.3));\n",
              "      fill: #FFFFFF;\n",
              "    }\n",
              "  </style>\n",
              "\n",
              "      <script>\n",
              "        const buttonEl =\n",
              "          document.querySelector('#df-d347dc85-12ce-4dca-8411-11d2e04821f4 button.colab-df-convert');\n",
              "        buttonEl.style.display =\n",
              "          google.colab.kernel.accessAllowed ? 'block' : 'none';\n",
              "\n",
              "        async function convertToInteractive(key) {\n",
              "          const element = document.querySelector('#df-d347dc85-12ce-4dca-8411-11d2e04821f4');\n",
              "          const dataTable =\n",
              "            await google.colab.kernel.invokeFunction('convertToInteractive',\n",
              "                                                     [key], {});\n",
              "          if (!dataTable) return;\n",
              "\n",
              "          const docLinkHtml = 'Like what you see? Visit the ' +\n",
              "            '<a target=\"_blank\" href=https://colab.research.google.com/notebooks/data_table.ipynb>data table notebook</a>'\n",
              "            + ' to learn more about interactive tables.';\n",
              "          element.innerHTML = '';\n",
              "          dataTable['output_type'] = 'display_data';\n",
              "          await google.colab.output.renderOutput(dataTable, element);\n",
              "          const docLink = document.createElement('div');\n",
              "          docLink.innerHTML = docLinkHtml;\n",
              "          element.appendChild(docLink);\n",
              "        }\n",
              "      </script>\n",
              "    </div>\n",
              "  </div>\n",
              "  "
            ]
          },
          "metadata": {},
          "execution_count": 158
        }
      ]
    },
    {
      "cell_type": "code",
      "source": [
        "F1.describe()"
      ],
      "metadata": {
        "colab": {
          "base_uri": "https://localhost:8080/",
          "height": 300
        },
        "id": "gj4kOLidITe1",
        "outputId": "1b046018-de44-48ab-ce10-89cbdc0659e9"
      },
      "execution_count": null,
      "outputs": [
        {
          "output_type": "execute_result",
          "data": {
            "text/plain": [
              "              DT         RF        KNN        SVM         NB\n",
              "count  30.000000  30.000000  30.000000  30.000000  29.000000\n",
              "mean    0.866776   0.877438   0.876095   0.873959   0.871254\n",
              "std     0.006518   0.002965   0.002629   0.002415   0.002877\n",
              "min     0.854066   0.871650   0.869871   0.869329   0.864518\n",
              "25%     0.863621   0.875967   0.875096   0.872432   0.869527\n",
              "50%     0.868046   0.877612   0.876055   0.873936   0.871742\n",
              "75%     0.871673   0.879460   0.877522   0.875316   0.872812\n",
              "max     0.876878   0.882565   0.882299   0.879908   0.876202"
            ],
            "text/html": [
              "\n",
              "  <div id=\"df-db8d21fe-7cf5-43fb-ac54-8aeeb5ec17d6\">\n",
              "    <div class=\"colab-df-container\">\n",
              "      <div>\n",
              "<style scoped>\n",
              "    .dataframe tbody tr th:only-of-type {\n",
              "        vertical-align: middle;\n",
              "    }\n",
              "\n",
              "    .dataframe tbody tr th {\n",
              "        vertical-align: top;\n",
              "    }\n",
              "\n",
              "    .dataframe thead th {\n",
              "        text-align: right;\n",
              "    }\n",
              "</style>\n",
              "<table border=\"1\" class=\"dataframe\">\n",
              "  <thead>\n",
              "    <tr style=\"text-align: right;\">\n",
              "      <th></th>\n",
              "      <th>DT</th>\n",
              "      <th>RF</th>\n",
              "      <th>KNN</th>\n",
              "      <th>SVM</th>\n",
              "      <th>NB</th>\n",
              "    </tr>\n",
              "  </thead>\n",
              "  <tbody>\n",
              "    <tr>\n",
              "      <th>count</th>\n",
              "      <td>30.000000</td>\n",
              "      <td>30.000000</td>\n",
              "      <td>30.000000</td>\n",
              "      <td>30.000000</td>\n",
              "      <td>29.000000</td>\n",
              "    </tr>\n",
              "    <tr>\n",
              "      <th>mean</th>\n",
              "      <td>0.866776</td>\n",
              "      <td>0.877438</td>\n",
              "      <td>0.876095</td>\n",
              "      <td>0.873959</td>\n",
              "      <td>0.871254</td>\n",
              "    </tr>\n",
              "    <tr>\n",
              "      <th>std</th>\n",
              "      <td>0.006518</td>\n",
              "      <td>0.002965</td>\n",
              "      <td>0.002629</td>\n",
              "      <td>0.002415</td>\n",
              "      <td>0.002877</td>\n",
              "    </tr>\n",
              "    <tr>\n",
              "      <th>min</th>\n",
              "      <td>0.854066</td>\n",
              "      <td>0.871650</td>\n",
              "      <td>0.869871</td>\n",
              "      <td>0.869329</td>\n",
              "      <td>0.864518</td>\n",
              "    </tr>\n",
              "    <tr>\n",
              "      <th>25%</th>\n",
              "      <td>0.863621</td>\n",
              "      <td>0.875967</td>\n",
              "      <td>0.875096</td>\n",
              "      <td>0.872432</td>\n",
              "      <td>0.869527</td>\n",
              "    </tr>\n",
              "    <tr>\n",
              "      <th>50%</th>\n",
              "      <td>0.868046</td>\n",
              "      <td>0.877612</td>\n",
              "      <td>0.876055</td>\n",
              "      <td>0.873936</td>\n",
              "      <td>0.871742</td>\n",
              "    </tr>\n",
              "    <tr>\n",
              "      <th>75%</th>\n",
              "      <td>0.871673</td>\n",
              "      <td>0.879460</td>\n",
              "      <td>0.877522</td>\n",
              "      <td>0.875316</td>\n",
              "      <td>0.872812</td>\n",
              "    </tr>\n",
              "    <tr>\n",
              "      <th>max</th>\n",
              "      <td>0.876878</td>\n",
              "      <td>0.882565</td>\n",
              "      <td>0.882299</td>\n",
              "      <td>0.879908</td>\n",
              "      <td>0.876202</td>\n",
              "    </tr>\n",
              "  </tbody>\n",
              "</table>\n",
              "</div>\n",
              "      <button class=\"colab-df-convert\" onclick=\"convertToInteractive('df-db8d21fe-7cf5-43fb-ac54-8aeeb5ec17d6')\"\n",
              "              title=\"Convert this dataframe to an interactive table.\"\n",
              "              style=\"display:none;\">\n",
              "        \n",
              "  <svg xmlns=\"http://www.w3.org/2000/svg\" height=\"24px\"viewBox=\"0 0 24 24\"\n",
              "       width=\"24px\">\n",
              "    <path d=\"M0 0h24v24H0V0z\" fill=\"none\"/>\n",
              "    <path d=\"M18.56 5.44l.94 2.06.94-2.06 2.06-.94-2.06-.94-.94-2.06-.94 2.06-2.06.94zm-11 1L8.5 8.5l.94-2.06 2.06-.94-2.06-.94L8.5 2.5l-.94 2.06-2.06.94zm10 10l.94 2.06.94-2.06 2.06-.94-2.06-.94-.94-2.06-.94 2.06-2.06.94z\"/><path d=\"M17.41 7.96l-1.37-1.37c-.4-.4-.92-.59-1.43-.59-.52 0-1.04.2-1.43.59L10.3 9.45l-7.72 7.72c-.78.78-.78 2.05 0 2.83L4 21.41c.39.39.9.59 1.41.59.51 0 1.02-.2 1.41-.59l7.78-7.78 2.81-2.81c.8-.78.8-2.07 0-2.86zM5.41 20L4 18.59l7.72-7.72 1.47 1.35L5.41 20z\"/>\n",
              "  </svg>\n",
              "      </button>\n",
              "      \n",
              "  <style>\n",
              "    .colab-df-container {\n",
              "      display:flex;\n",
              "      flex-wrap:wrap;\n",
              "      gap: 12px;\n",
              "    }\n",
              "\n",
              "    .colab-df-convert {\n",
              "      background-color: #E8F0FE;\n",
              "      border: none;\n",
              "      border-radius: 50%;\n",
              "      cursor: pointer;\n",
              "      display: none;\n",
              "      fill: #1967D2;\n",
              "      height: 32px;\n",
              "      padding: 0 0 0 0;\n",
              "      width: 32px;\n",
              "    }\n",
              "\n",
              "    .colab-df-convert:hover {\n",
              "      background-color: #E2EBFA;\n",
              "      box-shadow: 0px 1px 2px rgba(60, 64, 67, 0.3), 0px 1px 3px 1px rgba(60, 64, 67, 0.15);\n",
              "      fill: #174EA6;\n",
              "    }\n",
              "\n",
              "    [theme=dark] .colab-df-convert {\n",
              "      background-color: #3B4455;\n",
              "      fill: #D2E3FC;\n",
              "    }\n",
              "\n",
              "    [theme=dark] .colab-df-convert:hover {\n",
              "      background-color: #434B5C;\n",
              "      box-shadow: 0px 1px 3px 1px rgba(0, 0, 0, 0.15);\n",
              "      filter: drop-shadow(0px 1px 2px rgba(0, 0, 0, 0.3));\n",
              "      fill: #FFFFFF;\n",
              "    }\n",
              "  </style>\n",
              "\n",
              "      <script>\n",
              "        const buttonEl =\n",
              "          document.querySelector('#df-db8d21fe-7cf5-43fb-ac54-8aeeb5ec17d6 button.colab-df-convert');\n",
              "        buttonEl.style.display =\n",
              "          google.colab.kernel.accessAllowed ? 'block' : 'none';\n",
              "\n",
              "        async function convertToInteractive(key) {\n",
              "          const element = document.querySelector('#df-db8d21fe-7cf5-43fb-ac54-8aeeb5ec17d6');\n",
              "          const dataTable =\n",
              "            await google.colab.kernel.invokeFunction('convertToInteractive',\n",
              "                                                     [key], {});\n",
              "          if (!dataTable) return;\n",
              "\n",
              "          const docLinkHtml = 'Like what you see? Visit the ' +\n",
              "            '<a target=\"_blank\" href=https://colab.research.google.com/notebooks/data_table.ipynb>data table notebook</a>'\n",
              "            + ' to learn more about interactive tables.';\n",
              "          element.innerHTML = '';\n",
              "          dataTable['output_type'] = 'display_data';\n",
              "          await google.colab.output.renderOutput(dataTable, element);\n",
              "          const docLink = document.createElement('div');\n",
              "          docLink.innerHTML = docLinkHtml;\n",
              "          element.appendChild(docLink);\n",
              "        }\n",
              "      </script>\n",
              "    </div>\n",
              "  </div>\n",
              "  "
            ]
          },
          "metadata": {},
          "execution_count": 159
        }
      ]
    },
    {
      "cell_type": "code",
      "source": [
        "#Coeficiente de Variação - CV para F1\n",
        "(F1.std() / F1.mean()) * 100"
      ],
      "metadata": {
        "colab": {
          "base_uri": "https://localhost:8080/"
        },
        "id": "M_6Bhxa_IWjg",
        "outputId": "ae908d2f-0044-44e0-fae5-12c286e061ed"
      },
      "execution_count": null,
      "outputs": [
        {
          "output_type": "execute_result",
          "data": {
            "text/plain": [
              "DT     0.751967\n",
              "RF     0.337925\n",
              "KNN    0.300108\n",
              "SVM    0.276322\n",
              "NB     0.330233\n",
              "dtype: float64"
            ]
          },
          "metadata": {},
          "execution_count": 160
        }
      ]
    },
    {
      "cell_type": "markdown",
      "source": [
        "##Teste de Shapiro\n",
        "\n",
        "Teste de normalidade. Se a hipotese for nula é porque a distribuição é normal. Se o p-value for pequeno eu rejeito a hipótese nula e não é normal, se o p-value for alto (p-value > nível de significância) eu não rejeito a hipótese nula. Utilizaremos nível de significância 0.05."
      ],
      "metadata": {
        "id": "5fRbZqQyxI3Z"
      }
    },
    {
      "cell_type": "code",
      "source": [
        "shapiro(resultados_DT), shapiro(resultados_RF), shapiro(resultados_KNN), shapiro(resultados_SVM), shapiro(resultados_NB), #shapiro(resultados_MLP), shapiro(resultados_XG),"
      ],
      "metadata": {
        "id": "wlJg7llpqczU",
        "colab": {
          "base_uri": "https://localhost:8080/"
        },
        "outputId": "3740f255-311f-4407-8264-93dc7085c8b5"
      },
      "execution_count": null,
      "outputs": [
        {
          "output_type": "execute_result",
          "data": {
            "text/plain": [
              "(ShapiroResult(statistic=0.9425415992736816, pvalue=0.10649658739566803),\n",
              " ShapiroResult(statistic=0.9637083411216736, pvalue=0.3838750720024109),\n",
              " ShapiroResult(statistic=0.95412278175354, pvalue=0.2177101969718933),\n",
              " ShapiroResult(statistic=0.9680923223495483, pvalue=0.48838546872138977),\n",
              " ShapiroResult(statistic=nan, pvalue=1.0))"
            ]
          },
          "metadata": {},
          "execution_count": 161
        }
      ]
    },
    {
      "cell_type": "code",
      "source": [
        "shapiro(resultadosf1_DT), shapiro(resultadosf1_RF), shapiro(resultadosf1_KNN), shapiro(resultadosf1_SVM), shapiro(resultadosf1_NB), #shapiro(resultadosf1_MLP), shapiro(resultadosf1_XG),"
      ],
      "metadata": {
        "colab": {
          "base_uri": "https://localhost:8080/"
        },
        "id": "XUFtlAYlzkZK",
        "outputId": "6a6e7489-6afe-46d0-82fa-9e472c59ae2e"
      },
      "execution_count": null,
      "outputs": [
        {
          "output_type": "execute_result",
          "data": {
            "text/plain": [
              "(ShapiroResult(statistic=0.9391539096832275, pvalue=0.08631067723035812),\n",
              " ShapiroResult(statistic=0.970704197883606, pvalue=0.5586204528808594),\n",
              " ShapiroResult(statistic=0.9823533296585083, pvalue=0.8840717673301697),\n",
              " ShapiroResult(statistic=0.98207026720047, pvalue=0.877520740032196),\n",
              " ShapiroResult(statistic=nan, pvalue=1.0))"
            ]
          },
          "metadata": {},
          "execution_count": 162
        }
      ]
    },
    {
      "cell_type": "code",
      "source": [
        "sns.displot(resultados_DT, kind = 'kde')"
      ],
      "metadata": {
        "id": "DXVScQiTqhNJ"
      },
      "execution_count": null,
      "outputs": []
    },
    {
      "cell_type": "code",
      "source": [
        "sns.displot(resultadosf1_DT, kind = 'kde')"
      ],
      "metadata": {
        "id": "cMAdn6tyzudv"
      },
      "execution_count": null,
      "outputs": []
    },
    {
      "cell_type": "code",
      "source": [
        "sns.displot(resultados_KNN, kind = 'kde')"
      ],
      "metadata": {
        "id": "JKVG54rsqzDU"
      },
      "execution_count": null,
      "outputs": []
    },
    {
      "cell_type": "code",
      "source": [
        "sns.displot(resultadosf1_KNN, kind = 'kde')"
      ],
      "metadata": {
        "id": "5RkFKV3gzxX7"
      },
      "execution_count": null,
      "outputs": []
    },
    {
      "cell_type": "code",
      "source": [
        "#sns.displot(resultados_MLP, kind = 'kde')"
      ],
      "metadata": {
        "id": "iGjnq4wKqzAb"
      },
      "execution_count": null,
      "outputs": []
    },
    {
      "cell_type": "code",
      "source": [
        "#sns.displot(resultadosf1_MLP, kind = 'kde')"
      ],
      "metadata": {
        "id": "JYl1YH2Tz0ur"
      },
      "execution_count": null,
      "outputs": []
    },
    {
      "cell_type": "code",
      "source": [
        "sns.displot(resultados_NB, kind = 'kde')"
      ],
      "metadata": {
        "id": "OF9xkq7Kqy96"
      },
      "execution_count": null,
      "outputs": []
    },
    {
      "cell_type": "code",
      "source": [
        "sns.displot(resultadosf1_NB, kind = 'kde')"
      ],
      "metadata": {
        "id": "GkrqO0g1z3d7"
      },
      "execution_count": null,
      "outputs": []
    },
    {
      "cell_type": "code",
      "source": [
        "sns.displot(resultados_RF, kind = 'kde')"
      ],
      "metadata": {
        "id": "YUNLXGtuqy7W"
      },
      "execution_count": null,
      "outputs": []
    },
    {
      "cell_type": "code",
      "source": [
        "sns.displot(resultados_RF, kind = 'kde')"
      ],
      "metadata": {
        "id": "6L9Q31FOz61z"
      },
      "execution_count": null,
      "outputs": []
    },
    {
      "cell_type": "code",
      "source": [
        "sns.displot(resultados_SVM, kind = 'kde')"
      ],
      "metadata": {
        "id": "XTtSzFrOqy1W"
      },
      "execution_count": null,
      "outputs": []
    },
    {
      "cell_type": "code",
      "source": [
        "sns.displot(resultados_SVM, kind = 'kde')"
      ],
      "metadata": {
        "id": "jT8xGuVqz9IL"
      },
      "execution_count": null,
      "outputs": []
    },
    {
      "cell_type": "code",
      "source": [
        "#sns.displot(resultados_XG, kind = 'kde')"
      ],
      "metadata": {
        "id": "92n1EBt18mNd"
      },
      "execution_count": null,
      "outputs": []
    },
    {
      "cell_type": "code",
      "source": [
        "sns.displot(resultadosf1_SVM, kind = 'kde')"
      ],
      "metadata": {
        "id": "LOA8lIewz-5b"
      },
      "execution_count": null,
      "outputs": []
    },
    {
      "cell_type": "code",
      "source": [
        "resultados_algoritmos = {'accuracy': np.concatenate([resultados_DT, resultados_RF, resultados_KNN, resultados_SVM, resultados_NB]),\n",
        "'algoritmo': ['DT', 'DT', 'DT', 'DT', 'DT',\\\n",
        "'DT', 'DT', 'DT', 'DT', 'DT',\\\n",
        "'DT', 'DT', 'DT', 'DT', 'DT',\\\n",
        "'DT', 'DT', 'DT', 'DT', 'DT',\\\n",
        "'DT', 'DT', 'DT', 'DT', 'DT',\\\n",
        "'DT', 'DT', 'DT', 'DT', 'DT',\\\n",
        "'RF', 'RF', 'RF', 'RF', 'RF',\\\n",
        "'RF', 'RF', 'RF', 'RF', 'RF',\\\n",
        "'RF', 'RF', 'RF', 'RF', 'RF',\\\n",
        "'RF', 'RF', 'RF', 'RF', 'RF',\\\n",
        "'RF', 'RF', 'RF', 'RF', 'RF',\\\n",
        "'RF', 'RF', 'RF', 'RF', 'RF',\\\n",
        "'KNN', 'KNN', 'KNN', 'KNN', 'KNN',\\\n",
        "'KNN', 'KNN', 'KNN', 'KNN', 'KNN',\\\n",
        "'KNN', 'KNN', 'KNN', 'KNN', 'KNN',\\\n",
        "'KNN', 'KNN', 'KNN', 'KNN', 'KNN',\\\n",
        "'KNN', 'KNN', 'KNN', 'KNN', 'KNN',\\\n",
        "'KNN', 'KNN', 'KNN', 'KNN', 'KNN',\\\n",
        "'SVM', 'SVM', 'SVM', 'SVM', 'SVM',\\\n",
        "'SVM', 'SVM', 'SVM', 'SVM', 'SVM',\\\n",
        "'SVM', 'SVM', 'SVM', 'SVM', 'SVM',\\\n",
        "'SVM', 'SVM', 'SVM', 'SVM', 'SVM',\\\n",
        "'SVM', 'SVM', 'SVM', 'SVM', 'SVM',\\\n",
        "'SVM', 'SVM', 'SVM', 'SVM', 'SVM',\\\n",
        "'NB', 'NB', 'NB', 'NB', 'NB',\\\n",
        "'NB', 'NB', 'NB', 'NB', 'NB',\\\n",
        "'NB', 'NB', 'NB', 'NB', 'NB',\\\n",
        "'NB', 'NB', 'NB', 'NB', 'NB',\\\n",
        "'NB', 'NB', 'NB', 'NB', 'NB',\\\n",
        "'NB', 'NB', 'NB', 'NB', 'NB',]}\n",
        "#'MLP', 'MLP', 'MLP', 'MLP', 'MLP',\\\n",
        "#'MLP', 'MLP', 'MLP', 'MLP', 'MLP',\\\n",
        "#'MLP', 'MLP', 'MLP', 'MLP', 'MLP',\\\n",
        "#'MLP', 'MLP', 'MLP', 'MLP', 'MLP',\\\n",
        "#'MLP', 'MLP', 'MLP', 'MLP', 'MLP',\\\n",
        "#'MLP', 'MLP', 'MLP', 'MLP', 'MLP',\\\n",
        "#'XG', 'XG', 'XG', 'XG', 'XG',\\\n",
        "#'XG', 'XG', 'XG', 'XG', 'XG',\\\n",
        "#'XG', 'XG', 'XG', 'XG', 'XG',\\\n",
        "#'XG', 'XG', 'XG', 'XG', 'XG',\\\n",
        "#'XG', 'XG', 'XG', 'XG', 'XG',\\\n",
        "#'XG', 'XG', 'XG', 'XG', 'XG']}"
      ],
      "metadata": {
        "id": "tJOC7kWAqysC"
      },
      "execution_count": null,
      "outputs": []
    },
    {
      "cell_type": "code",
      "source": [
        "resultados_df = pd.DataFrame(resultados_algoritmos)\n",
        "resultados_df.head(150)"
      ],
      "metadata": {
        "id": "ySDmRlssqymP",
        "colab": {
          "base_uri": "https://localhost:8080/",
          "height": 424
        },
        "outputId": "8fc099e9-142b-4f94-be8b-3d6c5af8b717"
      },
      "execution_count": null,
      "outputs": [
        {
          "output_type": "execute_result",
          "data": {
            "text/plain": [
              "     accuracy algoritmo\n",
              "0    0.856295        DT\n",
              "1    0.840934        DT\n",
              "2    0.848614        DT\n",
              "3    0.847456        DT\n",
              "4    0.856235        DT\n",
              "..        ...       ...\n",
              "145  0.865087        NB\n",
              "146  0.862273        NB\n",
              "147  0.862495        NB\n",
              "148  0.859793        NB\n",
              "149  0.862384        NB\n",
              "\n",
              "[150 rows x 2 columns]"
            ],
            "text/html": [
              "\n",
              "  <div id=\"df-bbf11b8d-2793-4e23-a3c1-6cb446566979\">\n",
              "    <div class=\"colab-df-container\">\n",
              "      <div>\n",
              "<style scoped>\n",
              "    .dataframe tbody tr th:only-of-type {\n",
              "        vertical-align: middle;\n",
              "    }\n",
              "\n",
              "    .dataframe tbody tr th {\n",
              "        vertical-align: top;\n",
              "    }\n",
              "\n",
              "    .dataframe thead th {\n",
              "        text-align: right;\n",
              "    }\n",
              "</style>\n",
              "<table border=\"1\" class=\"dataframe\">\n",
              "  <thead>\n",
              "    <tr style=\"text-align: right;\">\n",
              "      <th></th>\n",
              "      <th>accuracy</th>\n",
              "      <th>algoritmo</th>\n",
              "    </tr>\n",
              "  </thead>\n",
              "  <tbody>\n",
              "    <tr>\n",
              "      <th>0</th>\n",
              "      <td>0.856295</td>\n",
              "      <td>DT</td>\n",
              "    </tr>\n",
              "    <tr>\n",
              "      <th>1</th>\n",
              "      <td>0.840934</td>\n",
              "      <td>DT</td>\n",
              "    </tr>\n",
              "    <tr>\n",
              "      <th>2</th>\n",
              "      <td>0.848614</td>\n",
              "      <td>DT</td>\n",
              "    </tr>\n",
              "    <tr>\n",
              "      <th>3</th>\n",
              "      <td>0.847456</td>\n",
              "      <td>DT</td>\n",
              "    </tr>\n",
              "    <tr>\n",
              "      <th>4</th>\n",
              "      <td>0.856235</td>\n",
              "      <td>DT</td>\n",
              "    </tr>\n",
              "    <tr>\n",
              "      <th>...</th>\n",
              "      <td>...</td>\n",
              "      <td>...</td>\n",
              "    </tr>\n",
              "    <tr>\n",
              "      <th>145</th>\n",
              "      <td>0.865087</td>\n",
              "      <td>NB</td>\n",
              "    </tr>\n",
              "    <tr>\n",
              "      <th>146</th>\n",
              "      <td>0.862273</td>\n",
              "      <td>NB</td>\n",
              "    </tr>\n",
              "    <tr>\n",
              "      <th>147</th>\n",
              "      <td>0.862495</td>\n",
              "      <td>NB</td>\n",
              "    </tr>\n",
              "    <tr>\n",
              "      <th>148</th>\n",
              "      <td>0.859793</td>\n",
              "      <td>NB</td>\n",
              "    </tr>\n",
              "    <tr>\n",
              "      <th>149</th>\n",
              "      <td>0.862384</td>\n",
              "      <td>NB</td>\n",
              "    </tr>\n",
              "  </tbody>\n",
              "</table>\n",
              "<p>150 rows × 2 columns</p>\n",
              "</div>\n",
              "      <button class=\"colab-df-convert\" onclick=\"convertToInteractive('df-bbf11b8d-2793-4e23-a3c1-6cb446566979')\"\n",
              "              title=\"Convert this dataframe to an interactive table.\"\n",
              "              style=\"display:none;\">\n",
              "        \n",
              "  <svg xmlns=\"http://www.w3.org/2000/svg\" height=\"24px\"viewBox=\"0 0 24 24\"\n",
              "       width=\"24px\">\n",
              "    <path d=\"M0 0h24v24H0V0z\" fill=\"none\"/>\n",
              "    <path d=\"M18.56 5.44l.94 2.06.94-2.06 2.06-.94-2.06-.94-.94-2.06-.94 2.06-2.06.94zm-11 1L8.5 8.5l.94-2.06 2.06-.94-2.06-.94L8.5 2.5l-.94 2.06-2.06.94zm10 10l.94 2.06.94-2.06 2.06-.94-2.06-.94-.94-2.06-.94 2.06-2.06.94z\"/><path d=\"M17.41 7.96l-1.37-1.37c-.4-.4-.92-.59-1.43-.59-.52 0-1.04.2-1.43.59L10.3 9.45l-7.72 7.72c-.78.78-.78 2.05 0 2.83L4 21.41c.39.39.9.59 1.41.59.51 0 1.02-.2 1.41-.59l7.78-7.78 2.81-2.81c.8-.78.8-2.07 0-2.86zM5.41 20L4 18.59l7.72-7.72 1.47 1.35L5.41 20z\"/>\n",
              "  </svg>\n",
              "      </button>\n",
              "      \n",
              "  <style>\n",
              "    .colab-df-container {\n",
              "      display:flex;\n",
              "      flex-wrap:wrap;\n",
              "      gap: 12px;\n",
              "    }\n",
              "\n",
              "    .colab-df-convert {\n",
              "      background-color: #E8F0FE;\n",
              "      border: none;\n",
              "      border-radius: 50%;\n",
              "      cursor: pointer;\n",
              "      display: none;\n",
              "      fill: #1967D2;\n",
              "      height: 32px;\n",
              "      padding: 0 0 0 0;\n",
              "      width: 32px;\n",
              "    }\n",
              "\n",
              "    .colab-df-convert:hover {\n",
              "      background-color: #E2EBFA;\n",
              "      box-shadow: 0px 1px 2px rgba(60, 64, 67, 0.3), 0px 1px 3px 1px rgba(60, 64, 67, 0.15);\n",
              "      fill: #174EA6;\n",
              "    }\n",
              "\n",
              "    [theme=dark] .colab-df-convert {\n",
              "      background-color: #3B4455;\n",
              "      fill: #D2E3FC;\n",
              "    }\n",
              "\n",
              "    [theme=dark] .colab-df-convert:hover {\n",
              "      background-color: #434B5C;\n",
              "      box-shadow: 0px 1px 3px 1px rgba(0, 0, 0, 0.15);\n",
              "      filter: drop-shadow(0px 1px 2px rgba(0, 0, 0, 0.3));\n",
              "      fill: #FFFFFF;\n",
              "    }\n",
              "  </style>\n",
              "\n",
              "      <script>\n",
              "        const buttonEl =\n",
              "          document.querySelector('#df-bbf11b8d-2793-4e23-a3c1-6cb446566979 button.colab-df-convert');\n",
              "        buttonEl.style.display =\n",
              "          google.colab.kernel.accessAllowed ? 'block' : 'none';\n",
              "\n",
              "        async function convertToInteractive(key) {\n",
              "          const element = document.querySelector('#df-bbf11b8d-2793-4e23-a3c1-6cb446566979');\n",
              "          const dataTable =\n",
              "            await google.colab.kernel.invokeFunction('convertToInteractive',\n",
              "                                                     [key], {});\n",
              "          if (!dataTable) return;\n",
              "\n",
              "          const docLinkHtml = 'Like what you see? Visit the ' +\n",
              "            '<a target=\"_blank\" href=https://colab.research.google.com/notebooks/data_table.ipynb>data table notebook</a>'\n",
              "            + ' to learn more about interactive tables.';\n",
              "          element.innerHTML = '';\n",
              "          dataTable['output_type'] = 'display_data';\n",
              "          await google.colab.output.renderOutput(dataTable, element);\n",
              "          const docLink = document.createElement('div');\n",
              "          docLink.innerHTML = docLinkHtml;\n",
              "          element.appendChild(docLink);\n",
              "        }\n",
              "      </script>\n",
              "    </div>\n",
              "  </div>\n",
              "  "
            ]
          },
          "metadata": {},
          "execution_count": 189
        }
      ]
    },
    {
      "cell_type": "code",
      "source": [
        "resultados_algoritmosf1 = {'f1': np.concatenate([resultadosf1_DT, resultadosf1_RF, resultadosf1_KNN, resultadosf1_SVM, resultadosf1_NB])\n",
        "'algoritmo': ['DT', 'DT', 'DT', 'DT', 'DT',\\\n",
        "'DT', 'DT', 'DT', 'DT', 'DT',\\\n",
        "'DT', 'DT', 'DT', 'DT', 'DT',\\\n",
        "'DT', 'DT', 'DT', 'DT', 'DT',\\\n",
        "'DT', 'DT', 'DT', 'DT', 'DT',\\\n",
        "'DT', 'DT', 'DT', 'DT', 'DT',\\\n",
        "'RF', 'RF', 'RF', 'RF', 'RF',\\\n",
        "'RF', 'RF', 'RF', 'RF', 'RF',\\\n",
        "'RF', 'RF', 'RF', 'RF', 'RF',\\\n",
        "'RF', 'RF', 'RF', 'RF', 'RF',\\\n",
        "'RF', 'RF', 'RF', 'RF', 'RF',\\\n",
        "'RF', 'RF', 'RF', 'RF', 'RF',\\\n",
        "'KNN', 'KNN', 'KNN', 'KNN', 'KNN',\\\n",
        "'KNN', 'KNN', 'KNN', 'KNN', 'KNN',\\\n",
        "'KNN', 'KNN', 'KNN', 'KNN', 'KNN',\\\n",
        "'KNN', 'KNN', 'KNN', 'KNN', 'KNN',\\\n",
        "'KNN', 'KNN', 'KNN', 'KNN', 'KNN',\\\n",
        "'KNN', 'KNN', 'KNN', 'KNN', 'KNN',\\\n",
        "'SVM', 'SVM', 'SVM', 'SVM', 'SVM',\\\n",
        "'SVM', 'SVM', 'SVM', 'SVM', 'SVM',\\\n",
        "'SVM', 'SVM', 'SVM', 'SVM', 'SVM',\\\n",
        "'SVM', 'SVM', 'SVM', 'SVM', 'SVM',\\\n",
        "'SVM', 'SVM', 'SVM', 'SVM', 'SVM',\\\n",
        "'SVM', 'SVM', 'SVM', 'SVM', 'SVM',\\\n",
        "'NB', 'NB', 'NB', 'NB', 'NB',\\\n",
        "'NB', 'NB', 'NB', 'NB', 'NB',\\\n",
        "'NB', 'NB', 'NB', 'NB', 'NB',\\\n",
        "'NB', 'NB', 'NB', 'NB', 'NB',\\\n",
        "'NB', 'NB', 'NB', 'NB', 'NB',\\\n",
        "'NB', 'NB', 'NB', 'NB', 'NB',\\]}\n",
        "#'MLP', 'MLP', 'MLP', 'MLP', 'MLP',\\\n",
        "#'MLP', 'MLP', 'MLP', 'MLP', 'MLP',\\\n",
        "#'MLP', 'MLP', 'MLP', 'MLP', 'MLP',\\\n",
        "#'MLP', 'MLP', 'MLP', 'MLP', 'MLP',\\\n",
        "#'MLP', 'MLP', 'MLP', 'MLP', 'MLP',\\\n",
        "#'MLP', 'MLP', 'MLP', 'MLP', 'MLP',\\\n",
        "#'XG', 'XG', 'XG', 'XG', 'XG',\\\n",
        "#'XG', 'XG', 'XG', 'XG', 'XG',\\\n",
        "#'XG', 'XG', 'XG', 'XG', 'XG',\\\n",
        "#'XG', 'XG', 'XG', 'XG', 'XG',\\\n",
        "#'XG', 'XG', 'XG', 'XG', 'XG',\\\n",
        "#'XG', 'XG', 'XG', 'XG', 'XG']}"
      ],
      "metadata": {
        "id": "fxbboNDU0Eke",
        "colab": {
          "base_uri": "https://localhost:8080/",
          "height": 130
        },
        "outputId": "32d81d1b-0ff0-427f-de26-b86dc88ea30b"
      },
      "execution_count": null,
      "outputs": [
        {
          "output_type": "error",
          "ename": "SyntaxError",
          "evalue": "ignored",
          "traceback": [
            "\u001b[0;36m  File \u001b[0;32m\"<ipython-input-183-afed8f810706>\"\u001b[0;36m, line \u001b[0;32m2\u001b[0m\n\u001b[0;31m    'algoritmo1': ['DT', 'DT', 'DT', 'DT', 'DT',\\\u001b[0m\n\u001b[0m               ^\u001b[0m\n\u001b[0;31mSyntaxError\u001b[0m\u001b[0;31m:\u001b[0m invalid syntax\n"
          ]
        }
      ]
    },
    {
      "cell_type": "code",
      "source": [
        "resultados_dff1 = pd.DataFrame(resultados_algoritmosf1)\n",
        "resultados_dff1.head(200)"
      ],
      "metadata": {
        "id": "THRB7_KH0OIT"
      },
      "execution_count": null,
      "outputs": []
    },
    {
      "cell_type": "markdown",
      "source": [
        "##Teste de Tukey"
      ],
      "metadata": {
        "id": "BS1A3YC0KU6F"
      }
    },
    {
      "cell_type": "code",
      "source": [
        "from statsmodels.stats.multicomp import MultiComparison"
      ],
      "metadata": {
        "id": "EuftbS_aqydB",
        "colab": {
          "base_uri": "https://localhost:8080/"
        },
        "outputId": "c8781163-8739-4943-91ec-3fbfd028aba9"
      },
      "execution_count": null,
      "outputs": [
        {
          "output_type": "stream",
          "name": "stderr",
          "text": [
            "/usr/local/lib/python3.7/dist-packages/statsmodels/tools/_testing.py:19: FutureWarning:\n",
            "\n",
            "pandas.util.testing is deprecated. Use the functions in the public API at pandas.testing instead.\n",
            "\n"
          ]
        }
      ]
    },
    {
      "cell_type": "code",
      "source": [
        "compara_algoritmos = MultiComparison(resultados_df['accuracy'], resultados_df['algoritmo'])"
      ],
      "metadata": {
        "id": "YHFERgDOqyWF"
      },
      "execution_count": null,
      "outputs": []
    },
    {
      "cell_type": "code",
      "source": [
        "teste_estatistico = compara_algoritmos.tukeyhsd()\n",
        "teste_estatistico"
      ],
      "metadata": {
        "id": "UxH6U-MIr3YD",
        "colab": {
          "base_uri": "https://localhost:8080/",
          "height": 564
        },
        "outputId": "94c86fc1-f979-4ea7-fa84-b68bece588df"
      },
      "execution_count": null,
      "outputs": [
        {
          "output_type": "stream",
          "name": "stdout",
          "text": [
            "\n",
            "NaN result encountered.\n",
            "\n",
            "NaN result encountered.\n",
            "\n",
            "NaN result encountered.\n",
            "\n",
            "NaN result encountered.\n",
            "\n",
            "NaN result encountered.\n",
            "\n",
            "NaN result encountered.\n",
            "\n",
            "NaN result encountered.\n",
            "\n",
            "NaN result encountered.\n",
            "\n",
            "NaN result encountered.\n",
            "\n",
            "NaN result encountered.\n",
            "\n",
            "NaN result encountered.\n"
          ]
        },
        {
          "output_type": "error",
          "ename": "TypeError",
          "evalue": "ignored",
          "traceback": [
            "\u001b[0;31m---------------------------------------------------------------------------\u001b[0m",
            "\u001b[0;31mTypeError\u001b[0m                                 Traceback (most recent call last)",
            "\u001b[0;32m<ipython-input-188-3dd93964d8e3>\u001b[0m in \u001b[0;36m<module>\u001b[0;34m()\u001b[0m\n\u001b[1;32m      1\u001b[0m \u001b[0mteste_estatistico\u001b[0m \u001b[0;34m=\u001b[0m \u001b[0mcompara_algoritmos\u001b[0m\u001b[0;34m.\u001b[0m\u001b[0mtukeyhsd\u001b[0m\u001b[0;34m(\u001b[0m\u001b[0;34m)\u001b[0m\u001b[0;34m\u001b[0m\u001b[0;34m\u001b[0m\u001b[0m\n\u001b[0;32m----> 2\u001b[0;31m \u001b[0mteste_estatistico\u001b[0m\u001b[0;34m(\u001b[0m\u001b[0;34m)\u001b[0m\u001b[0;34m\u001b[0m\u001b[0;34m\u001b[0m\u001b[0m\n\u001b[0m",
            "\u001b[0;31mTypeError\u001b[0m: 'TukeyHSDResults' object is not callable"
          ]
        }
      ]
    },
    {
      "cell_type": "code",
      "source": [],
      "metadata": {
        "id": "KUrtqfUxXNES"
      },
      "execution_count": null,
      "outputs": []
    }
  ]
}